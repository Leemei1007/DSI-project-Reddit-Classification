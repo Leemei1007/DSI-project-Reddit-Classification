{
 "cells": [
  {
   "cell_type": "markdown",
   "metadata": {},
   "source": [
    "# Project 3 - Reddit classification challenge"
   ]
  },
  {
   "cell_type": "markdown",
   "metadata": {},
   "source": [
    "## Part 2 - EDA"
   ]
  },
  {
   "cell_type": "markdown",
   "metadata": {},
   "source": [
    "### Contents:\n",
    "- [Tokenizing, lemmatizing and stemming](#Tokenizing,-lemmatizing-and-stemming)\n",
    "- [EDA](#EDA) \n",
    "  <br>[- Wordcloud](#Wordcloud)\n",
    "  <br>[- Word Vector](#Word-vector)\n",
    "  <br>[- Venn diagram](#Venn-diagram)\n",
    "- [Sentiment analysis](#Sentiment-analysis)\n",
    "- [Data storage](#Data-storage)"
   ]
  },
  {
   "cell_type": "code",
   "execution_count": 1,
   "metadata": {},
   "outputs": [
    {
     "name": "stdout",
     "output_type": "stream",
     "text": [
      "Requirement already satisfied: wordcloud in c:\\users\\leemei\\anaconda3\\lib\\site-packages (1.8.1)\n",
      "Requirement already satisfied: numpy>=1.6.1 in c:\\users\\leemei\\anaconda3\\lib\\site-packages (from wordcloud) (1.19.5)\n",
      "Requirement already satisfied: pillow in c:\\users\\leemei\\anaconda3\\lib\\site-packages (from wordcloud) (7.2.0)\n",
      "Requirement already satisfied: matplotlib in c:\\users\\leemei\\anaconda3\\lib\\site-packages (from wordcloud) (3.2.2)\n",
      "Requirement already satisfied: python-dateutil>=2.1 in c:\\users\\leemei\\anaconda3\\lib\\site-packages (from matplotlib->wordcloud) (2.8.1)\n",
      "Requirement already satisfied: cycler>=0.10 in c:\\users\\leemei\\anaconda3\\lib\\site-packages (from matplotlib->wordcloud) (0.10.0)\n",
      "Requirement already satisfied: pyparsing!=2.0.4,!=2.1.2,!=2.1.6,>=2.0.1 in c:\\users\\leemei\\anaconda3\\lib\\site-packages (from matplotlib->wordcloud) (2.4.7)\n",
      "Requirement already satisfied: kiwisolver>=1.0.1 in c:\\users\\leemei\\anaconda3\\lib\\site-packages (from matplotlib->wordcloud) (1.2.0)\n",
      "Requirement already satisfied: six>=1.5 in c:\\users\\leemei\\anaconda3\\lib\\site-packages (from python-dateutil>=2.1->matplotlib->wordcloud) (1.15.0)\n",
      "Requirement already satisfied: matplotlib-venn in c:\\users\\leemei\\anaconda3\\lib\\site-packages (0.11.6)\n",
      "Requirement already satisfied: scipy in c:\\users\\leemei\\anaconda3\\lib\\site-packages (from matplotlib-venn) (1.5.0)\n",
      "Requirement already satisfied: numpy in c:\\users\\leemei\\anaconda3\\lib\\site-packages (from matplotlib-venn) (1.19.5)\n",
      "Requirement already satisfied: matplotlib in c:\\users\\leemei\\anaconda3\\lib\\site-packages (from matplotlib-venn) (3.2.2)\n",
      "Requirement already satisfied: python-dateutil>=2.1 in c:\\users\\leemei\\anaconda3\\lib\\site-packages (from matplotlib->matplotlib-venn) (2.8.1)\n",
      "Requirement already satisfied: pyparsing!=2.0.4,!=2.1.2,!=2.1.6,>=2.0.1 in c:\\users\\leemei\\anaconda3\\lib\\site-packages (from matplotlib->matplotlib-venn) (2.4.7)\n",
      "Requirement already satisfied: cycler>=0.10 in c:\\users\\leemei\\anaconda3\\lib\\site-packages (from matplotlib->matplotlib-venn) (0.10.0)\n",
      "Requirement already satisfied: kiwisolver>=1.0.1 in c:\\users\\leemei\\anaconda3\\lib\\site-packages (from matplotlib->matplotlib-venn) (1.2.0)\n",
      "Requirement already satisfied: six>=1.5 in c:\\users\\leemei\\anaconda3\\lib\\site-packages (from python-dateutil>=2.1->matplotlib->matplotlib-venn) (1.15.0)\n"
     ]
    }
   ],
   "source": [
    "# basics\n",
    "import pandas as pd\n",
    "import numpy as np\n",
    "\n",
    "# web scraping\n",
    "import requests\n",
    "import json\n",
    "from bs4 import BeautifulSoup\n",
    "\n",
    "# visualisation\n",
    "import seaborn as sns\n",
    "import matplotlib.pyplot as plt\n",
    "!pip install wordcloud\n",
    "from wordcloud import WordCloud, STOPWORDS, ImageColorGenerator\n",
    "!pip install matplotlib-venn\n",
    "from matplotlib_venn import venn2\n",
    "\n",
    "# modelling\n",
    "from sklearn.model_selection import train_test_split\n",
    "from sklearn.svm import SVC\n",
    "from sklearn.preprocessing import StandardScaler\n",
    "from sklearn.datasets import make_classification\n",
    "from sklearn.pipeline import Pipeline\n",
    "from sklearn.linear_model import LogisticRegression\n",
    "from sklearn.metrics import r2_score,mean_squared_error,confusion_matrix,accuracy_score\n",
    "from sklearn.ensemble import RandomForestClassifier\n",
    "from sklearn.model_selection import GridSearchCV\n",
    "from sklearn.naive_bayes import MultinomialNB\n",
    "\n",
    "# NLP\n",
    "import nltk\n",
    "from nltk.stem import WordNetLemmatizer \n",
    "from sklearn.feature_extraction.text import CountVectorizer, TfidfVectorizer\n",
    "from nltk.tokenize import RegexpTokenizer\n",
    "from nltk.stem import WordNetLemmatizer\n",
    "from nltk.stem.porter import PorterStemmer\n",
    "from nltk.corpus import stopwords\n",
    "from nltk.tokenize import word_tokenize\n",
    "from nltk.sentiment.vader import SentimentIntensityAnalyzer\n",
    "\n",
    "import time\n",
    "import re\n",
    "import warnings\n",
    "warnings.simplefilter(action = 'ignore')\n",
    "\n",
    "pd.set_option('display.max_columns', None)\n",
    "pd.set_option('display.max_rows', None)\n",
    "pd.set_option('display.width', None)"
   ]
  },
  {
   "cell_type": "markdown",
   "metadata": {},
   "source": [
    "Import the data"
   ]
  },
  {
   "cell_type": "code",
   "execution_count": 2,
   "metadata": {},
   "outputs": [],
   "source": [
    "netflix_df = pd.read_csv('./datasets/netflix(cleanup).csv')"
   ]
  },
  {
   "cell_type": "code",
   "execution_count": 3,
   "metadata": {},
   "outputs": [
    {
     "data": {
      "text/html": [
       "<div>\n",
       "<style scoped>\n",
       "    .dataframe tbody tr th:only-of-type {\n",
       "        vertical-align: middle;\n",
       "    }\n",
       "\n",
       "    .dataframe tbody tr th {\n",
       "        vertical-align: top;\n",
       "    }\n",
       "\n",
       "    .dataframe thead th {\n",
       "        text-align: right;\n",
       "    }\n",
       "</style>\n",
       "<table border=\"1\" class=\"dataframe\">\n",
       "  <thead>\n",
       "    <tr style=\"text-align: right;\">\n",
       "      <th></th>\n",
       "      <th>title</th>\n",
       "      <th>selftext</th>\n",
       "      <th>subreddit</th>\n",
       "      <th>title_text</th>\n",
       "    </tr>\n",
       "  </thead>\n",
       "  <tbody>\n",
       "    <tr>\n",
       "      <th>0</th>\n",
       "      <td>heman</td>\n",
       "      <td>NaN</td>\n",
       "      <td>netflix</td>\n",
       "      <td>heman</td>\n",
       "    </tr>\n",
       "    <tr>\n",
       "      <th>1</th>\n",
       "      <td>help me find a episode</td>\n",
       "      <td>i m looking for something i saw many years ago...</td>\n",
       "      <td>netflix</td>\n",
       "      <td>help me find a episode i m looking for somethi...</td>\n",
       "    </tr>\n",
       "    <tr>\n",
       "      <th>2</th>\n",
       "      <td>netflix won t work</td>\n",
       "      <td>i have noticed that netflix refuses to launch ...</td>\n",
       "      <td>netflix</td>\n",
       "      <td>netflix won t work i have noticed that netflix...</td>\n",
       "    </tr>\n",
       "    <tr>\n",
       "      <th>3</th>\n",
       "      <td>army of the dead</td>\n",
       "      <td>army of the dead will be set in new york city ...</td>\n",
       "      <td>netflix</td>\n",
       "      <td>army of the dead  army of the dead will be set...</td>\n",
       "    </tr>\n",
       "    <tr>\n",
       "      <th>4</th>\n",
       "      <td>believe me the abduction of lisa mcvey</td>\n",
       "      <td>sorry little rant but holy shit those female p...</td>\n",
       "      <td>netflix</td>\n",
       "      <td>believe me the abduction of lisa mcvey sorry l...</td>\n",
       "    </tr>\n",
       "  </tbody>\n",
       "</table>\n",
       "</div>"
      ],
      "text/plain": [
       "                                    title  \\\n",
       "0                                   heman   \n",
       "1                  help me find a episode   \n",
       "2                      netflix won t work   \n",
       "3                       army of the dead    \n",
       "4  believe me the abduction of lisa mcvey   \n",
       "\n",
       "                                            selftext subreddit  \\\n",
       "0                                                NaN   netflix   \n",
       "1  i m looking for something i saw many years ago...   netflix   \n",
       "2  i have noticed that netflix refuses to launch ...   netflix   \n",
       "3  army of the dead will be set in new york city ...   netflix   \n",
       "4  sorry little rant but holy shit those female p...   netflix   \n",
       "\n",
       "                                          title_text  \n",
       "0                                             heman   \n",
       "1  help me find a episode i m looking for somethi...  \n",
       "2  netflix won t work i have noticed that netflix...  \n",
       "3  army of the dead  army of the dead will be set...  \n",
       "4  believe me the abduction of lisa mcvey sorry l...  "
      ]
     },
     "execution_count": 3,
     "metadata": {},
     "output_type": "execute_result"
    }
   ],
   "source": [
    "netflix_df.head()"
   ]
  },
  {
   "cell_type": "code",
   "execution_count": 4,
   "metadata": {},
   "outputs": [],
   "source": [
    "az_df = pd.read_csv('./datasets/amazonprimevideo(cleanup).csv')"
   ]
  },
  {
   "cell_type": "code",
   "execution_count": 5,
   "metadata": {},
   "outputs": [
    {
     "data": {
      "text/html": [
       "<div>\n",
       "<style scoped>\n",
       "    .dataframe tbody tr th:only-of-type {\n",
       "        vertical-align: middle;\n",
       "    }\n",
       "\n",
       "    .dataframe tbody tr th {\n",
       "        vertical-align: top;\n",
       "    }\n",
       "\n",
       "    .dataframe thead th {\n",
       "        text-align: right;\n",
       "    }\n",
       "</style>\n",
       "<table border=\"1\" class=\"dataframe\">\n",
       "  <thead>\n",
       "    <tr style=\"text-align: right;\">\n",
       "      <th></th>\n",
       "      <th>title</th>\n",
       "      <th>selftext</th>\n",
       "      <th>subreddit</th>\n",
       "      <th>title_text</th>\n",
       "    </tr>\n",
       "  </thead>\n",
       "  <tbody>\n",
       "    <tr>\n",
       "      <th>0</th>\n",
       "      <td>any stack tv subscribers here</td>\n",
       "      <td>NaN</td>\n",
       "      <td>AmazonPrimeVideo</td>\n",
       "      <td>any stack tv subscribers here</td>\n",
       "    </tr>\n",
       "    <tr>\n",
       "      <th>1</th>\n",
       "      <td>chromecast</td>\n",
       "      <td>NaN</td>\n",
       "      <td>AmazonPrimeVideo</td>\n",
       "      <td>chromecast</td>\n",
       "    </tr>\n",
       "    <tr>\n",
       "      <th>2</th>\n",
       "      <td>using digital reward credit for channel subscr...</td>\n",
       "      <td>i ve got some digital rewards for no rush ship...</td>\n",
       "      <td>AmazonPrimeVideo</td>\n",
       "      <td>using digital reward credit for channel subscr...</td>\n",
       "    </tr>\n",
       "    <tr>\n",
       "      <th>3</th>\n",
       "      <td>infinite loading during ads</td>\n",
       "      <td>NaN</td>\n",
       "      <td>AmazonPrimeVideo</td>\n",
       "      <td>infinite loading during ads</td>\n",
       "    </tr>\n",
       "    <tr>\n",
       "      <th>4</th>\n",
       "      <td>infinite loading screen whenever an ad tries t...</td>\n",
       "      <td>NaN</td>\n",
       "      <td>AmazonPrimeVideo</td>\n",
       "      <td>infinite loading screen whenever an ad tries t...</td>\n",
       "    </tr>\n",
       "  </tbody>\n",
       "</table>\n",
       "</div>"
      ],
      "text/plain": [
       "                                               title  \\\n",
       "0                     any stack tv subscribers here    \n",
       "1                                         chromecast   \n",
       "2  using digital reward credit for channel subscr...   \n",
       "3                        infinite loading during ads   \n",
       "4  infinite loading screen whenever an ad tries t...   \n",
       "\n",
       "                                            selftext         subreddit  \\\n",
       "0                                                NaN  AmazonPrimeVideo   \n",
       "1                                                NaN  AmazonPrimeVideo   \n",
       "2  i ve got some digital rewards for no rush ship...  AmazonPrimeVideo   \n",
       "3                                                NaN  AmazonPrimeVideo   \n",
       "4                                                NaN  AmazonPrimeVideo   \n",
       "\n",
       "                                          title_text  \n",
       "0                    any stack tv subscribers here    \n",
       "1                                        chromecast   \n",
       "2  using digital reward credit for channel subscr...  \n",
       "3                       infinite loading during ads   \n",
       "4  infinite loading screen whenever an ad tries t...  "
      ]
     },
     "execution_count": 5,
     "metadata": {},
     "output_type": "execute_result"
    }
   ],
   "source": [
    "az_df.head()"
   ]
  },
  {
   "cell_type": "markdown",
   "metadata": {},
   "source": [
    "### Tokenizing, lemmatizing and stemming"
   ]
  },
  {
   "cell_type": "markdown",
   "metadata": {},
   "source": [
    "**Tokenize** to only take words or numbers"
   ]
  },
  {
   "cell_type": "code",
   "execution_count": 6,
   "metadata": {},
   "outputs": [],
   "source": [
    "tokenizer = RegexpTokenizer(r'\\w+', gaps=False)"
   ]
  },
  {
   "cell_type": "code",
   "execution_count": 7,
   "metadata": {},
   "outputs": [],
   "source": [
    "netflix_df['title_text_tokens'] = netflix_df['title_text'].apply(tokenizer.tokenize)"
   ]
  },
  {
   "cell_type": "code",
   "execution_count": 8,
   "metadata": {},
   "outputs": [
    {
     "data": {
      "text/html": [
       "<div>\n",
       "<style scoped>\n",
       "    .dataframe tbody tr th:only-of-type {\n",
       "        vertical-align: middle;\n",
       "    }\n",
       "\n",
       "    .dataframe tbody tr th {\n",
       "        vertical-align: top;\n",
       "    }\n",
       "\n",
       "    .dataframe thead th {\n",
       "        text-align: right;\n",
       "    }\n",
       "</style>\n",
       "<table border=\"1\" class=\"dataframe\">\n",
       "  <thead>\n",
       "    <tr style=\"text-align: right;\">\n",
       "      <th></th>\n",
       "      <th>title</th>\n",
       "      <th>selftext</th>\n",
       "      <th>subreddit</th>\n",
       "      <th>title_text</th>\n",
       "      <th>title_text_tokens</th>\n",
       "    </tr>\n",
       "  </thead>\n",
       "  <tbody>\n",
       "    <tr>\n",
       "      <th>0</th>\n",
       "      <td>heman</td>\n",
       "      <td>NaN</td>\n",
       "      <td>netflix</td>\n",
       "      <td>heman</td>\n",
       "      <td>[heman]</td>\n",
       "    </tr>\n",
       "    <tr>\n",
       "      <th>1</th>\n",
       "      <td>help me find a episode</td>\n",
       "      <td>i m looking for something i saw many years ago...</td>\n",
       "      <td>netflix</td>\n",
       "      <td>help me find a episode i m looking for somethi...</td>\n",
       "      <td>[help, me, find, a, episode, i, m, looking, fo...</td>\n",
       "    </tr>\n",
       "    <tr>\n",
       "      <th>2</th>\n",
       "      <td>netflix won t work</td>\n",
       "      <td>i have noticed that netflix refuses to launch ...</td>\n",
       "      <td>netflix</td>\n",
       "      <td>netflix won t work i have noticed that netflix...</td>\n",
       "      <td>[netflix, won, t, work, i, have, noticed, that...</td>\n",
       "    </tr>\n",
       "    <tr>\n",
       "      <th>3</th>\n",
       "      <td>army of the dead</td>\n",
       "      <td>army of the dead will be set in new york city ...</td>\n",
       "      <td>netflix</td>\n",
       "      <td>army of the dead  army of the dead will be set...</td>\n",
       "      <td>[army, of, the, dead, army, of, the, dead, wil...</td>\n",
       "    </tr>\n",
       "    <tr>\n",
       "      <th>4</th>\n",
       "      <td>believe me the abduction of lisa mcvey</td>\n",
       "      <td>sorry little rant but holy shit those female p...</td>\n",
       "      <td>netflix</td>\n",
       "      <td>believe me the abduction of lisa mcvey sorry l...</td>\n",
       "      <td>[believe, me, the, abduction, of, lisa, mcvey,...</td>\n",
       "    </tr>\n",
       "  </tbody>\n",
       "</table>\n",
       "</div>"
      ],
      "text/plain": [
       "                                    title  \\\n",
       "0                                   heman   \n",
       "1                  help me find a episode   \n",
       "2                      netflix won t work   \n",
       "3                       army of the dead    \n",
       "4  believe me the abduction of lisa mcvey   \n",
       "\n",
       "                                            selftext subreddit  \\\n",
       "0                                                NaN   netflix   \n",
       "1  i m looking for something i saw many years ago...   netflix   \n",
       "2  i have noticed that netflix refuses to launch ...   netflix   \n",
       "3  army of the dead will be set in new york city ...   netflix   \n",
       "4  sorry little rant but holy shit those female p...   netflix   \n",
       "\n",
       "                                          title_text  \\\n",
       "0                                             heman    \n",
       "1  help me find a episode i m looking for somethi...   \n",
       "2  netflix won t work i have noticed that netflix...   \n",
       "3  army of the dead  army of the dead will be set...   \n",
       "4  believe me the abduction of lisa mcvey sorry l...   \n",
       "\n",
       "                                   title_text_tokens  \n",
       "0                                            [heman]  \n",
       "1  [help, me, find, a, episode, i, m, looking, fo...  \n",
       "2  [netflix, won, t, work, i, have, noticed, that...  \n",
       "3  [army, of, the, dead, army, of, the, dead, wil...  \n",
       "4  [believe, me, the, abduction, of, lisa, mcvey,...  "
      ]
     },
     "execution_count": 8,
     "metadata": {},
     "output_type": "execute_result"
    }
   ],
   "source": [
    "netflix_df.head()"
   ]
  },
  {
   "cell_type": "code",
   "execution_count": 9,
   "metadata": {},
   "outputs": [],
   "source": [
    "az_df['title_text_tokens'] = az_df['title_text'].apply(tokenizer.tokenize)"
   ]
  },
  {
   "cell_type": "code",
   "execution_count": 10,
   "metadata": {},
   "outputs": [
    {
     "data": {
      "text/html": [
       "<div>\n",
       "<style scoped>\n",
       "    .dataframe tbody tr th:only-of-type {\n",
       "        vertical-align: middle;\n",
       "    }\n",
       "\n",
       "    .dataframe tbody tr th {\n",
       "        vertical-align: top;\n",
       "    }\n",
       "\n",
       "    .dataframe thead th {\n",
       "        text-align: right;\n",
       "    }\n",
       "</style>\n",
       "<table border=\"1\" class=\"dataframe\">\n",
       "  <thead>\n",
       "    <tr style=\"text-align: right;\">\n",
       "      <th></th>\n",
       "      <th>title</th>\n",
       "      <th>selftext</th>\n",
       "      <th>subreddit</th>\n",
       "      <th>title_text</th>\n",
       "      <th>title_text_tokens</th>\n",
       "    </tr>\n",
       "  </thead>\n",
       "  <tbody>\n",
       "    <tr>\n",
       "      <th>0</th>\n",
       "      <td>any stack tv subscribers here</td>\n",
       "      <td>NaN</td>\n",
       "      <td>AmazonPrimeVideo</td>\n",
       "      <td>any stack tv subscribers here</td>\n",
       "      <td>[any, stack, tv, subscribers, here]</td>\n",
       "    </tr>\n",
       "    <tr>\n",
       "      <th>1</th>\n",
       "      <td>chromecast</td>\n",
       "      <td>NaN</td>\n",
       "      <td>AmazonPrimeVideo</td>\n",
       "      <td>chromecast</td>\n",
       "      <td>[chromecast]</td>\n",
       "    </tr>\n",
       "    <tr>\n",
       "      <th>2</th>\n",
       "      <td>using digital reward credit for channel subscr...</td>\n",
       "      <td>i ve got some digital rewards for no rush ship...</td>\n",
       "      <td>AmazonPrimeVideo</td>\n",
       "      <td>using digital reward credit for channel subscr...</td>\n",
       "      <td>[using, digital, reward, credit, for, channel,...</td>\n",
       "    </tr>\n",
       "    <tr>\n",
       "      <th>3</th>\n",
       "      <td>infinite loading during ads</td>\n",
       "      <td>NaN</td>\n",
       "      <td>AmazonPrimeVideo</td>\n",
       "      <td>infinite loading during ads</td>\n",
       "      <td>[infinite, loading, during, ads]</td>\n",
       "    </tr>\n",
       "    <tr>\n",
       "      <th>4</th>\n",
       "      <td>infinite loading screen whenever an ad tries t...</td>\n",
       "      <td>NaN</td>\n",
       "      <td>AmazonPrimeVideo</td>\n",
       "      <td>infinite loading screen whenever an ad tries t...</td>\n",
       "      <td>[infinite, loading, screen, whenever, an, ad, ...</td>\n",
       "    </tr>\n",
       "  </tbody>\n",
       "</table>\n",
       "</div>"
      ],
      "text/plain": [
       "                                               title  \\\n",
       "0                     any stack tv subscribers here    \n",
       "1                                         chromecast   \n",
       "2  using digital reward credit for channel subscr...   \n",
       "3                        infinite loading during ads   \n",
       "4  infinite loading screen whenever an ad tries t...   \n",
       "\n",
       "                                            selftext         subreddit  \\\n",
       "0                                                NaN  AmazonPrimeVideo   \n",
       "1                                                NaN  AmazonPrimeVideo   \n",
       "2  i ve got some digital rewards for no rush ship...  AmazonPrimeVideo   \n",
       "3                                                NaN  AmazonPrimeVideo   \n",
       "4                                                NaN  AmazonPrimeVideo   \n",
       "\n",
       "                                          title_text  \\\n",
       "0                    any stack tv subscribers here     \n",
       "1                                        chromecast    \n",
       "2  using digital reward credit for channel subscr...   \n",
       "3                       infinite loading during ads    \n",
       "4  infinite loading screen whenever an ad tries t...   \n",
       "\n",
       "                                   title_text_tokens  \n",
       "0                [any, stack, tv, subscribers, here]  \n",
       "1                                       [chromecast]  \n",
       "2  [using, digital, reward, credit, for, channel,...  \n",
       "3                   [infinite, loading, during, ads]  \n",
       "4  [infinite, loading, screen, whenever, an, ad, ...  "
      ]
     },
     "execution_count": 10,
     "metadata": {},
     "output_type": "execute_result"
    }
   ],
   "source": [
    "az_df.head()"
   ]
  },
  {
   "cell_type": "markdown",
   "metadata": {},
   "source": [
    "Remove stop words"
   ]
  },
  {
   "cell_type": "code",
   "execution_count": 11,
   "metadata": {},
   "outputs": [],
   "source": [
    "stop = stopwords.words('english')"
   ]
  },
  {
   "cell_type": "code",
   "execution_count": 12,
   "metadata": {},
   "outputs": [],
   "source": [
    "netflix_df['title_text_stop'] = netflix_df['title_text_tokens'].apply(lambda x: [item for item in x if item not in stop])"
   ]
  },
  {
   "cell_type": "code",
   "execution_count": 13,
   "metadata": {},
   "outputs": [],
   "source": [
    "az_df['title_text_stop'] = az_df['title_text_tokens'].apply(lambda x: [item for item in x if item not in stop])"
   ]
  },
  {
   "cell_type": "markdown",
   "metadata": {},
   "source": [
    "**Lemmatising and stemming**"
   ]
  },
  {
   "cell_type": "markdown",
   "metadata": {},
   "source": [
    "Create a function to lemmatise"
   ]
  },
  {
   "cell_type": "code",
   "execution_count": 14,
   "metadata": {},
   "outputs": [],
   "source": [
    "def lem(x):\n",
    "#-----------------------------------\n",
    "# Input:\n",
    "# x - post text\n",
    "# Output:\n",
    "# string of lemmatized words\n",
    "#-----------------------------------\n",
    "    lemmatizer = WordNetLemmatizer()\n",
    "    \n",
    "    #lemmatize words\n",
    "    lemm_words = [lemmatizer.lemmatize(word.lower()) for word in x]\n",
    "    \n",
    "    #return lemmatized and stem words in a string\n",
    "    return ' '.join(lemm_words)  "
   ]
  },
  {
   "cell_type": "markdown",
   "metadata": {},
   "source": [
    "Create a function for stemming"
   ]
  },
  {
   "cell_type": "code",
   "execution_count": 15,
   "metadata": {},
   "outputs": [],
   "source": [
    "def stem(x):\n",
    "    \n",
    "    p_stemmer = PorterStemmer()\n",
    "    \n",
    "    stemmed_words = [p_stemmer.stem(word) for word in x]\n",
    "    \n",
    "    return ' '.join(stemmed_words)"
   ]
  },
  {
   "cell_type": "markdown",
   "metadata": {},
   "source": [
    "Lemmatise the title text"
   ]
  },
  {
   "cell_type": "code",
   "execution_count": 16,
   "metadata": {},
   "outputs": [],
   "source": [
    "netflix_df['title_text_lem'] = netflix_df['title_text_stop'].apply(lem)"
   ]
  },
  {
   "cell_type": "code",
   "execution_count": 17,
   "metadata": {},
   "outputs": [
    {
     "data": {
      "text/html": [
       "<div>\n",
       "<style scoped>\n",
       "    .dataframe tbody tr th:only-of-type {\n",
       "        vertical-align: middle;\n",
       "    }\n",
       "\n",
       "    .dataframe tbody tr th {\n",
       "        vertical-align: top;\n",
       "    }\n",
       "\n",
       "    .dataframe thead th {\n",
       "        text-align: right;\n",
       "    }\n",
       "</style>\n",
       "<table border=\"1\" class=\"dataframe\">\n",
       "  <thead>\n",
       "    <tr style=\"text-align: right;\">\n",
       "      <th></th>\n",
       "      <th>title</th>\n",
       "      <th>selftext</th>\n",
       "      <th>subreddit</th>\n",
       "      <th>title_text</th>\n",
       "      <th>title_text_tokens</th>\n",
       "      <th>title_text_stop</th>\n",
       "      <th>title_text_lem</th>\n",
       "    </tr>\n",
       "  </thead>\n",
       "  <tbody>\n",
       "    <tr>\n",
       "      <th>0</th>\n",
       "      <td>heman</td>\n",
       "      <td>NaN</td>\n",
       "      <td>netflix</td>\n",
       "      <td>heman</td>\n",
       "      <td>[heman]</td>\n",
       "      <td>[heman]</td>\n",
       "      <td>heman</td>\n",
       "    </tr>\n",
       "    <tr>\n",
       "      <th>1</th>\n",
       "      <td>help me find a episode</td>\n",
       "      <td>i m looking for something i saw many years ago...</td>\n",
       "      <td>netflix</td>\n",
       "      <td>help me find a episode i m looking for somethi...</td>\n",
       "      <td>[help, me, find, a, episode, i, m, looking, fo...</td>\n",
       "      <td>[help, find, episode, looking, something, saw,...</td>\n",
       "      <td>help find episode looking something saw many y...</td>\n",
       "    </tr>\n",
       "    <tr>\n",
       "      <th>2</th>\n",
       "      <td>netflix won t work</td>\n",
       "      <td>i have noticed that netflix refuses to launch ...</td>\n",
       "      <td>netflix</td>\n",
       "      <td>netflix won t work i have noticed that netflix...</td>\n",
       "      <td>[netflix, won, t, work, i, have, noticed, that...</td>\n",
       "      <td>[netflix, work, noticed, netflix, refuses, lau...</td>\n",
       "      <td>netflix work noticed netflix refuse launch sur...</td>\n",
       "    </tr>\n",
       "    <tr>\n",
       "      <th>3</th>\n",
       "      <td>army of the dead</td>\n",
       "      <td>army of the dead will be set in new york city ...</td>\n",
       "      <td>netflix</td>\n",
       "      <td>army of the dead  army of the dead will be set...</td>\n",
       "      <td>[army, of, the, dead, army, of, the, dead, wil...</td>\n",
       "      <td>[army, dead, army, dead, set, new, york, city,...</td>\n",
       "      <td>army dead army dead set new york city month ev...</td>\n",
       "    </tr>\n",
       "    <tr>\n",
       "      <th>4</th>\n",
       "      <td>believe me the abduction of lisa mcvey</td>\n",
       "      <td>sorry little rant but holy shit those female p...</td>\n",
       "      <td>netflix</td>\n",
       "      <td>believe me the abduction of lisa mcvey sorry l...</td>\n",
       "      <td>[believe, me, the, abduction, of, lisa, mcvey,...</td>\n",
       "      <td>[believe, abduction, lisa, mcvey, sorry, littl...</td>\n",
       "      <td>believe abduction lisa mcvey sorry little rant...</td>\n",
       "    </tr>\n",
       "  </tbody>\n",
       "</table>\n",
       "</div>"
      ],
      "text/plain": [
       "                                    title  \\\n",
       "0                                   heman   \n",
       "1                  help me find a episode   \n",
       "2                      netflix won t work   \n",
       "3                       army of the dead    \n",
       "4  believe me the abduction of lisa mcvey   \n",
       "\n",
       "                                            selftext subreddit  \\\n",
       "0                                                NaN   netflix   \n",
       "1  i m looking for something i saw many years ago...   netflix   \n",
       "2  i have noticed that netflix refuses to launch ...   netflix   \n",
       "3  army of the dead will be set in new york city ...   netflix   \n",
       "4  sorry little rant but holy shit those female p...   netflix   \n",
       "\n",
       "                                          title_text  \\\n",
       "0                                             heman    \n",
       "1  help me find a episode i m looking for somethi...   \n",
       "2  netflix won t work i have noticed that netflix...   \n",
       "3  army of the dead  army of the dead will be set...   \n",
       "4  believe me the abduction of lisa mcvey sorry l...   \n",
       "\n",
       "                                   title_text_tokens  \\\n",
       "0                                            [heman]   \n",
       "1  [help, me, find, a, episode, i, m, looking, fo...   \n",
       "2  [netflix, won, t, work, i, have, noticed, that...   \n",
       "3  [army, of, the, dead, army, of, the, dead, wil...   \n",
       "4  [believe, me, the, abduction, of, lisa, mcvey,...   \n",
       "\n",
       "                                     title_text_stop  \\\n",
       "0                                            [heman]   \n",
       "1  [help, find, episode, looking, something, saw,...   \n",
       "2  [netflix, work, noticed, netflix, refuses, lau...   \n",
       "3  [army, dead, army, dead, set, new, york, city,...   \n",
       "4  [believe, abduction, lisa, mcvey, sorry, littl...   \n",
       "\n",
       "                                      title_text_lem  \n",
       "0                                              heman  \n",
       "1  help find episode looking something saw many y...  \n",
       "2  netflix work noticed netflix refuse launch sur...  \n",
       "3  army dead army dead set new york city month ev...  \n",
       "4  believe abduction lisa mcvey sorry little rant...  "
      ]
     },
     "execution_count": 17,
     "metadata": {},
     "output_type": "execute_result"
    }
   ],
   "source": [
    "netflix_df.head()"
   ]
  },
  {
   "cell_type": "code",
   "execution_count": 18,
   "metadata": {},
   "outputs": [],
   "source": [
    "az_df['title_text_lem'] = az_df['title_text_stop'].apply(lem)"
   ]
  },
  {
   "cell_type": "code",
   "execution_count": 19,
   "metadata": {},
   "outputs": [
    {
     "data": {
      "text/html": [
       "<div>\n",
       "<style scoped>\n",
       "    .dataframe tbody tr th:only-of-type {\n",
       "        vertical-align: middle;\n",
       "    }\n",
       "\n",
       "    .dataframe tbody tr th {\n",
       "        vertical-align: top;\n",
       "    }\n",
       "\n",
       "    .dataframe thead th {\n",
       "        text-align: right;\n",
       "    }\n",
       "</style>\n",
       "<table border=\"1\" class=\"dataframe\">\n",
       "  <thead>\n",
       "    <tr style=\"text-align: right;\">\n",
       "      <th></th>\n",
       "      <th>title</th>\n",
       "      <th>selftext</th>\n",
       "      <th>subreddit</th>\n",
       "      <th>title_text</th>\n",
       "      <th>title_text_tokens</th>\n",
       "      <th>title_text_stop</th>\n",
       "      <th>title_text_lem</th>\n",
       "    </tr>\n",
       "  </thead>\n",
       "  <tbody>\n",
       "    <tr>\n",
       "      <th>0</th>\n",
       "      <td>any stack tv subscribers here</td>\n",
       "      <td>NaN</td>\n",
       "      <td>AmazonPrimeVideo</td>\n",
       "      <td>any stack tv subscribers here</td>\n",
       "      <td>[any, stack, tv, subscribers, here]</td>\n",
       "      <td>[stack, tv, subscribers]</td>\n",
       "      <td>stack tv subscriber</td>\n",
       "    </tr>\n",
       "    <tr>\n",
       "      <th>1</th>\n",
       "      <td>chromecast</td>\n",
       "      <td>NaN</td>\n",
       "      <td>AmazonPrimeVideo</td>\n",
       "      <td>chromecast</td>\n",
       "      <td>[chromecast]</td>\n",
       "      <td>[chromecast]</td>\n",
       "      <td>chromecast</td>\n",
       "    </tr>\n",
       "    <tr>\n",
       "      <th>2</th>\n",
       "      <td>using digital reward credit for channel subscr...</td>\n",
       "      <td>i ve got some digital rewards for no rush ship...</td>\n",
       "      <td>AmazonPrimeVideo</td>\n",
       "      <td>using digital reward credit for channel subscr...</td>\n",
       "      <td>[using, digital, reward, credit, for, channel,...</td>\n",
       "      <td>[using, digital, reward, credit, channel, subs...</td>\n",
       "      <td>using digital reward credit channel subscripti...</td>\n",
       "    </tr>\n",
       "    <tr>\n",
       "      <th>3</th>\n",
       "      <td>infinite loading during ads</td>\n",
       "      <td>NaN</td>\n",
       "      <td>AmazonPrimeVideo</td>\n",
       "      <td>infinite loading during ads</td>\n",
       "      <td>[infinite, loading, during, ads]</td>\n",
       "      <td>[infinite, loading, ads]</td>\n",
       "      <td>infinite loading ad</td>\n",
       "    </tr>\n",
       "    <tr>\n",
       "      <th>4</th>\n",
       "      <td>infinite loading screen whenever an ad tries t...</td>\n",
       "      <td>NaN</td>\n",
       "      <td>AmazonPrimeVideo</td>\n",
       "      <td>infinite loading screen whenever an ad tries t...</td>\n",
       "      <td>[infinite, loading, screen, whenever, an, ad, ...</td>\n",
       "      <td>[infinite, loading, screen, whenever, ad, trie...</td>\n",
       "      <td>infinite loading screen whenever ad try load</td>\n",
       "    </tr>\n",
       "  </tbody>\n",
       "</table>\n",
       "</div>"
      ],
      "text/plain": [
       "                                               title  \\\n",
       "0                     any stack tv subscribers here    \n",
       "1                                         chromecast   \n",
       "2  using digital reward credit for channel subscr...   \n",
       "3                        infinite loading during ads   \n",
       "4  infinite loading screen whenever an ad tries t...   \n",
       "\n",
       "                                            selftext         subreddit  \\\n",
       "0                                                NaN  AmazonPrimeVideo   \n",
       "1                                                NaN  AmazonPrimeVideo   \n",
       "2  i ve got some digital rewards for no rush ship...  AmazonPrimeVideo   \n",
       "3                                                NaN  AmazonPrimeVideo   \n",
       "4                                                NaN  AmazonPrimeVideo   \n",
       "\n",
       "                                          title_text  \\\n",
       "0                    any stack tv subscribers here     \n",
       "1                                        chromecast    \n",
       "2  using digital reward credit for channel subscr...   \n",
       "3                       infinite loading during ads    \n",
       "4  infinite loading screen whenever an ad tries t...   \n",
       "\n",
       "                                   title_text_tokens  \\\n",
       "0                [any, stack, tv, subscribers, here]   \n",
       "1                                       [chromecast]   \n",
       "2  [using, digital, reward, credit, for, channel,...   \n",
       "3                   [infinite, loading, during, ads]   \n",
       "4  [infinite, loading, screen, whenever, an, ad, ...   \n",
       "\n",
       "                                     title_text_stop  \\\n",
       "0                           [stack, tv, subscribers]   \n",
       "1                                       [chromecast]   \n",
       "2  [using, digital, reward, credit, channel, subs...   \n",
       "3                           [infinite, loading, ads]   \n",
       "4  [infinite, loading, screen, whenever, ad, trie...   \n",
       "\n",
       "                                      title_text_lem  \n",
       "0                                stack tv subscriber  \n",
       "1                                         chromecast  \n",
       "2  using digital reward credit channel subscripti...  \n",
       "3                                infinite loading ad  \n",
       "4       infinite loading screen whenever ad try load  "
      ]
     },
     "execution_count": 19,
     "metadata": {},
     "output_type": "execute_result"
    }
   ],
   "source": [
    "az_df.head()"
   ]
  },
  {
   "cell_type": "markdown",
   "metadata": {},
   "source": [
    "### EDA"
   ]
  },
  {
   "cell_type": "markdown",
   "metadata": {},
   "source": [
    "#### Wordcloud"
   ]
  },
  {
   "cell_type": "code",
   "execution_count": 20,
   "metadata": {},
   "outputs": [],
   "source": [
    "text_netflix = \" \".join(review for review in netflix_df['title_text_lem'])"
   ]
  },
  {
   "cell_type": "code",
   "execution_count": 21,
   "metadata": {},
   "outputs": [],
   "source": [
    "text_amazon = \" \".join(review for review in az_df['title_text_lem'])"
   ]
  },
  {
   "cell_type": "code",
   "execution_count": 22,
   "metadata": {},
   "outputs": [],
   "source": [
    "wordcloud_netflix = WordCloud(background_color=\"white\").generate(text_netflix)"
   ]
  },
  {
   "cell_type": "code",
   "execution_count": 23,
   "metadata": {},
   "outputs": [],
   "source": [
    "wordcloud_amazon = WordCloud(background_color=\"white\").generate(text_amazon)"
   ]
  },
  {
   "cell_type": "code",
   "execution_count": 24,
   "metadata": {},
   "outputs": [
    {
     "data": {
      "image/png": "[encoded data removed]",
      "text/plain": [
       "<Figure size 432x288 with 1 Axes>"
      ]
     },
     "metadata": {
      "needs_background": "light"
     },
     "output_type": "display_data"
    }
   ],
   "source": [
    "plt.imshow(wordcloud_netflix, interpolation='bilinear')\n",
    "plt.axis(\"off\")\n",
    "plt.title('Netflix wordcloud')\n",
    "plt.show()"
   ]
  },
  {
   "cell_type": "code",
   "execution_count": 25,
   "metadata": {},
   "outputs": [
    {
     "data": {
      "image/png": "[encoded data removed]",
      "text/plain": [
       "<Figure size 432x288 with 1 Axes>"
      ]
     },
     "metadata": {
      "needs_background": "light"
     },
     "output_type": "display_data"
    }
   ],
   "source": [
    "plt.imshow(wordcloud_amazon, interpolation='bilinear')\n",
    "plt.axis(\"off\")\n",
    "plt.title('AmazonPrimeVideo wordcloud')\n",
    "plt.show()"
   ]
  },
  {
   "cell_type": "markdown",
   "metadata": {},
   "source": [
    "Comment for above: Apart from the obvious 'Netflix', 'Amazon', 'Prime' and 'Video' words, the rest of the words seem generic, such as movie and tv shows. This gives me an indication that both are equally popular for their movie and tv show offerings"
   ]
  },
  {
   "cell_type": "markdown",
   "metadata": {},
   "source": [
    "#### Word vector"
   ]
  },
  {
   "cell_type": "markdown",
   "metadata": {},
   "source": [
    "Top words for Netflix subreddit"
   ]
  },
  {
   "cell_type": "code",
   "execution_count": 26,
   "metadata": {},
   "outputs": [
    {
     "name": "stdout",
     "output_type": "stream",
     "text": [
      "4885\n"
     ]
    },
    {
     "data": {
      "text/plain": [
       "netflix           57.043707\n",
       "show              34.409114\n",
       "movie             27.210988\n",
       "season            23.034786\n",
       "watch             20.709451\n",
       "series            20.495716\n",
       "like              15.523674\n",
       "anyone            14.082785\n",
       "account           13.575177\n",
       "good              13.438709\n",
       "tv                12.888350\n",
       "watching          12.499602\n",
       "know              12.248523\n",
       "one               12.075978\n",
       "help              11.800604\n",
       "new               11.654499\n",
       "recommendation    10.872248\n",
       "need              10.860021\n",
       "get               10.528112\n",
       "episode           10.412961\n",
       "dtype: float64"
      ]
     },
     "execution_count": 26,
     "metadata": {},
     "output_type": "execute_result"
    }
   ],
   "source": [
    "# TfidfVectorizer\n",
    "\n",
    "tf = TfidfVectorizer()\n",
    "tf.fit(netflix_df['title_text_lem'])\n",
    "\n",
    "len_features = len(tf.get_feature_names())\n",
    "print(len_features)\n",
    "\n",
    "netflix_cv_tf = pd.DataFrame(tf.transform(netflix_df['title_text_lem']).todense(),columns=tf.get_feature_names())\n",
    "\n",
    "top_netflix_tf = netflix_cv_tf.sum(axis=0)\n",
    "top_netflix_tf.sort_values(ascending = False).head(20)"
   ]
  },
  {
   "cell_type": "markdown",
   "metadata": {},
   "source": [
    "Comment for the list of words above: \n",
    "1. As demonstrated by the wordcloud as well, Netflix is the top word which is expected\n",
    "2. Other than 'Netflix', the other words seem generic \n",
    "3. As single words barely yield meaningful results, I shall try Bi-gram, which include additional words and may help to provide more insights"
   ]
  },
  {
   "cell_type": "code",
   "execution_count": 27,
   "metadata": {},
   "outputs": [],
   "source": [
    "# bi-gram"
   ]
  },
  {
   "cell_type": "code",
   "execution_count": 28,
   "metadata": {},
   "outputs": [
    {
     "name": "stdout",
     "output_type": "stream",
     "text": [
      "18021\n"
     ]
    },
    {
     "data": {
      "text/plain": [
       "army dead           5.741872\n",
       "sweet tooth         5.585921\n",
       "netflix account     4.991581\n",
       "tv show             4.951212\n",
       "anyone else         4.710188\n",
       "stranger thing      3.907988\n",
       "anyone know         3.811163\n",
       "bo burnham          3.720336\n",
       "show netflix        3.667230\n",
       "movie series        3.635678\n",
       "trailer netflix     3.509278\n",
       "netflix show        3.455175\n",
       "show movie          3.390190\n",
       "official trailer    3.365870\n",
       "netflix movie       3.294730\n",
       "need help           3.125872\n",
       "show suggestion     3.084086\n",
       "watch netflix       3.061197\n",
       "cobra kai           2.828468\n",
       "official teaser     2.807267\n",
       "dtype: float64"
      ]
     },
     "execution_count": 28,
     "metadata": {},
     "output_type": "execute_result"
    }
   ],
   "source": [
    "tf = TfidfVectorizer(ngram_range= (2,2))\n",
    "tf.fit(netflix_df['title_text_lem'])\n",
    "\n",
    "len_features = len(tf.get_feature_names())\n",
    "print(len_features)\n",
    "\n",
    "netflix_cv_tf = pd.DataFrame(tf.transform(netflix_df['title_text_lem']).todense(),columns=tf.get_feature_names())\n",
    "\n",
    "top_netflix_tf = netflix_cv_tf.sum(axis=0)\n",
    "top_netflix_tf.sort_values(ascending = False).head(20)"
   ]
  },
  {
   "cell_type": "markdown",
   "metadata": {},
   "source": [
    "Comment for the list of words above: \n",
    "1. Bi-gram does provide more insights, yielding show titles such as 'Army of the Dead', 'Sweet tooth', 'Stranger Things' which are popular on Netflix \n",
    "\n",
    "2. **With Netflix original tv shows showing up, I believe I should be able to answer the problem statement with these datasets**\n"
   ]
  },
  {
   "cell_type": "code",
   "execution_count": 29,
   "metadata": {},
   "outputs": [
    {
     "data": {
      "text/html": [
       "<div>\n",
       "<style scoped>\n",
       "    .dataframe tbody tr th:only-of-type {\n",
       "        vertical-align: middle;\n",
       "    }\n",
       "\n",
       "    .dataframe tbody tr th {\n",
       "        vertical-align: top;\n",
       "    }\n",
       "\n",
       "    .dataframe thead th {\n",
       "        text-align: right;\n",
       "    }\n",
       "</style>\n",
       "<table border=\"1\" class=\"dataframe\">\n",
       "  <thead>\n",
       "    <tr style=\"text-align: right;\">\n",
       "      <th></th>\n",
       "      <th>word</th>\n",
       "      <th>frequency</th>\n",
       "    </tr>\n",
       "  </thead>\n",
       "  <tbody>\n",
       "    <tr>\n",
       "      <th>1065</th>\n",
       "      <td>army dead</td>\n",
       "      <td>5.741872</td>\n",
       "    </tr>\n",
       "    <tr>\n",
       "      <th>15218</th>\n",
       "      <td>sweet tooth</td>\n",
       "      <td>5.585921</td>\n",
       "    </tr>\n",
       "    <tr>\n",
       "      <th>9824</th>\n",
       "      <td>netflix account</td>\n",
       "      <td>4.991581</td>\n",
       "    </tr>\n",
       "    <tr>\n",
       "      <th>16249</th>\n",
       "      <td>tv show</td>\n",
       "      <td>4.951212</td>\n",
       "    </tr>\n",
       "    <tr>\n",
       "      <th>827</th>\n",
       "      <td>anyone else</td>\n",
       "      <td>4.710188</td>\n",
       "    </tr>\n",
       "    <tr>\n",
       "      <th>14829</th>\n",
       "      <td>stranger thing</td>\n",
       "      <td>3.907988</td>\n",
       "    </tr>\n",
       "    <tr>\n",
       "      <th>840</th>\n",
       "      <td>anyone know</td>\n",
       "      <td>3.811163</td>\n",
       "    </tr>\n",
       "    <tr>\n",
       "      <th>1844</th>\n",
       "      <td>bo burnham</td>\n",
       "      <td>3.720336</td>\n",
       "    </tr>\n",
       "    <tr>\n",
       "      <th>13887</th>\n",
       "      <td>show netflix</td>\n",
       "      <td>3.667230</td>\n",
       "    </tr>\n",
       "    <tr>\n",
       "      <th>9522</th>\n",
       "      <td>movie series</td>\n",
       "      <td>3.635678</td>\n",
       "    </tr>\n",
       "  </tbody>\n",
       "</table>\n",
       "</div>"
      ],
      "text/plain": [
       "                  word  frequency\n",
       "1065         army dead   5.741872\n",
       "15218      sweet tooth   5.585921\n",
       "9824   netflix account   4.991581\n",
       "16249          tv show   4.951212\n",
       "827        anyone else   4.710188\n",
       "14829   stranger thing   3.907988\n",
       "840        anyone know   3.811163\n",
       "1844        bo burnham   3.720336\n",
       "13887     show netflix   3.667230\n",
       "9522      movie series   3.635678"
      ]
     },
     "execution_count": 29,
     "metadata": {},
     "output_type": "execute_result"
    }
   ],
   "source": [
    "# get top words in Netflix\n",
    "\n",
    "df_top_netflix = top_netflix_tf.to_frame(name='frequency')\n",
    "df_top_netflix['word'] = df_top_netflix.index\n",
    "df_top_netflix.reset_index(drop=True, inplace=True)\n",
    "\n",
    "cols = ['word','frequency']\n",
    "df_top_netflix = df_top_netflix[cols]\n",
    "df_top_netflix.sort_values(by='frequency',ascending=False, inplace=True)\n",
    "df_top_netflix.head(10)"
   ]
  },
  {
   "cell_type": "code",
   "execution_count": 30,
   "metadata": {},
   "outputs": [
    {
     "name": "stdout",
     "output_type": "stream",
     "text": [
      "Among the top 20 bi-gram words, tv show titles (Army of the Dead, Sweet Tooth, Stranger Things, Cobra Kai) and celebrity (Bo Burham) collectively comprise of 5 bi-gram words\n"
     ]
    },
    {
     "data": {
      "image/png": "[encoded data removed]",
      "text/plain": [
       "<Figure size 1440x720 with 1 Axes>"
      ]
     },
     "metadata": {
      "needs_background": "light"
     },
     "output_type": "display_data"
    }
   ],
   "source": [
    "plt.figure(figsize=(20,10))\n",
    "plt.title('Netflix: Top 20 bi-gram words',fontsize=25)\n",
    "\n",
    "sns.set_style(\"whitegrid\")\n",
    "sns.barplot(data=df_top_netflix.head(20),x='frequency',y='word',orient='h')\n",
    "\n",
    "plt.xlabel('frequency',fontsize=20)\n",
    "plt.ylabel('word',fontsize=20)\n",
    "plt.tick_params(labelsize=15)\n",
    "\n",
    "print('Among the top 20 bi-gram words, tv show titles (Army of the Dead, Sweet Tooth, Stranger Things, Cobra Kai) and celebrity (Bo Burham) collectively comprise of 5 bi-gram words')"
   ]
  },
  {
   "cell_type": "markdown",
   "metadata": {},
   "source": [
    "Top words for AmazonPrimeVideo subreddit\n"
   ]
  },
  {
   "cell_type": "code",
   "execution_count": 31,
   "metadata": {},
   "outputs": [
    {
     "name": "stdout",
     "output_type": "stream",
     "text": [
      "3997\n"
     ]
    },
    {
     "data": {
      "text/plain": [
       "prime        49.647963\n",
       "video        42.879479\n",
       "amazon       41.679313\n",
       "movie        30.756034\n",
       "watch        30.369818\n",
       "season       23.953285\n",
       "episode      23.290218\n",
       "tv           19.375608\n",
       "watched      18.764684\n",
       "series       16.147549\n",
       "app          16.122144\n",
       "subtitle     15.895584\n",
       "boy          14.602890\n",
       "watching     14.319768\n",
       "available    13.711376\n",
       "like         13.459939\n",
       "know         12.743706\n",
       "good         11.687810\n",
       "great        11.507900\n",
       "amp          11.443358\n",
       "dtype: float64"
      ]
     },
     "execution_count": 31,
     "metadata": {},
     "output_type": "execute_result"
    }
   ],
   "source": [
    "# TfidfVectorizer\n",
    "\n",
    "tf = TfidfVectorizer(stop_words='english')\n",
    "tf.fit(az_df['title_text_lem'])\n",
    "\n",
    "len_features = len(tf.get_feature_names())\n",
    "print(len_features)\n",
    "\n",
    "az_cv_tf = pd.DataFrame(tf.transform(az_df['title_text_lem']).todense(),columns=tf.get_feature_names())\n",
    "\n",
    "top_az_tf = az_cv_tf.sum(axis=0)\n",
    "top_az_tf.sort_values(ascending = False).head(20)"
   ]
  },
  {
   "cell_type": "markdown",
   "metadata": {},
   "source": [
    "Comment:\n",
    "1. As expected, Amazon, Prime and Video are the top words\n",
    "2. Similarly to Netflix, other than Amazon, Prime and Video, the rest of the words appear generic\n",
    "3. Without stemming, I noted that watch, watched and watching appeared in top 20 words\n",
    "4. As single words barely yield meaningful results, I shall try Bi-gram, which include additional words and may help to provide more insights"
   ]
  },
  {
   "cell_type": "code",
   "execution_count": 32,
   "metadata": {},
   "outputs": [
    {
     "name": "stdout",
     "output_type": "stream",
     "text": [
      "18021\n"
     ]
    },
    {
     "data": {
      "text/plain": [
       "amazon prime        137.489258\n",
       "anyone know          13.940911\n",
       "season episode       10.913450\n",
       "english dub          10.877638\n",
       "tv show               9.588714\n",
       "anyone else           8.303792\n",
       "really good           7.746431\n",
       "great cast            6.286435\n",
       "sci fi                6.199085\n",
       "release date          6.168652\n",
       "official trailer      5.935509\n",
       "free trial            5.907788\n",
       "go back               5.776964\n",
       "great flick           5.523167\n",
       "watch movie           5.511869\n",
       "would like            5.446582\n",
       "movie series          5.188005\n",
       "credit card           5.025052\n",
       "tv app                4.825247\n",
       "video quality         4.718025\n",
       "dtype: float64"
      ]
     },
     "execution_count": 32,
     "metadata": {},
     "output_type": "execute_result"
    }
   ],
   "source": [
    "tf = TfidfVectorizer(ngram_range= (2,2))\n",
    "tf.fit(netflix_df['title_text_lem'])\n",
    "\n",
    "len_features = len(tf.get_feature_names())\n",
    "print(len_features)\n",
    "\n",
    "az_cv_tf = pd.DataFrame(tf.transform(az_df['title_text_lem']).todense(),columns=tf.get_feature_names())\n",
    "\n",
    "top_az_tf = az_cv_tf.sum(axis=0)\n",
    "top_az_tf.sort_values(ascending = False).head(20)"
   ]
  },
  {
   "cell_type": "markdown",
   "metadata": {},
   "source": [
    "Comment for the list of words above:\n",
    "\n",
    "1. Unlike Netflix, bi-gram for AmazonPrimeVideo does not yield unique tv show titles. Perhaps, AmazonPrimeVideo has not released tv shows as popular as Netflix"
   ]
  },
  {
   "cell_type": "code",
   "execution_count": 33,
   "metadata": {},
   "outputs": [
    {
     "data": {
      "text/html": [
       "<div>\n",
       "<style scoped>\n",
       "    .dataframe tbody tr th:only-of-type {\n",
       "        vertical-align: middle;\n",
       "    }\n",
       "\n",
       "    .dataframe tbody tr th {\n",
       "        vertical-align: top;\n",
       "    }\n",
       "\n",
       "    .dataframe thead th {\n",
       "        text-align: right;\n",
       "    }\n",
       "</style>\n",
       "<table border=\"1\" class=\"dataframe\">\n",
       "  <thead>\n",
       "    <tr style=\"text-align: right;\">\n",
       "      <th></th>\n",
       "      <th>word</th>\n",
       "      <th>frequency</th>\n",
       "    </tr>\n",
       "  </thead>\n",
       "  <tbody>\n",
       "    <tr>\n",
       "      <th>607</th>\n",
       "      <td>amazon prime</td>\n",
       "      <td>137.489258</td>\n",
       "    </tr>\n",
       "    <tr>\n",
       "      <th>840</th>\n",
       "      <td>anyone know</td>\n",
       "      <td>13.940911</td>\n",
       "    </tr>\n",
       "    <tr>\n",
       "      <th>13120</th>\n",
       "      <td>season episode</td>\n",
       "      <td>10.913450</td>\n",
       "    </tr>\n",
       "    <tr>\n",
       "      <th>4184</th>\n",
       "      <td>english dub</td>\n",
       "      <td>10.877638</td>\n",
       "    </tr>\n",
       "    <tr>\n",
       "      <th>16249</th>\n",
       "      <td>tv show</td>\n",
       "      <td>9.588714</td>\n",
       "    </tr>\n",
       "    <tr>\n",
       "      <th>827</th>\n",
       "      <td>anyone else</td>\n",
       "      <td>8.303792</td>\n",
       "    </tr>\n",
       "    <tr>\n",
       "      <th>12170</th>\n",
       "      <td>really good</td>\n",
       "      <td>7.746431</td>\n",
       "    </tr>\n",
       "    <tr>\n",
       "      <th>6131</th>\n",
       "      <td>great cast</td>\n",
       "      <td>6.286435</td>\n",
       "    </tr>\n",
       "    <tr>\n",
       "      <th>13003</th>\n",
       "      <td>sci fi</td>\n",
       "      <td>6.199085</td>\n",
       "    </tr>\n",
       "    <tr>\n",
       "      <th>12392</th>\n",
       "      <td>release date</td>\n",
       "      <td>6.168652</td>\n",
       "    </tr>\n",
       "  </tbody>\n",
       "</table>\n",
       "</div>"
      ],
      "text/plain": [
       "                 word   frequency\n",
       "607      amazon prime  137.489258\n",
       "840       anyone know   13.940911\n",
       "13120  season episode   10.913450\n",
       "4184      english dub   10.877638\n",
       "16249         tv show    9.588714\n",
       "827       anyone else    8.303792\n",
       "12170     really good    7.746431\n",
       "6131       great cast    6.286435\n",
       "13003          sci fi    6.199085\n",
       "12392    release date    6.168652"
      ]
     },
     "execution_count": 33,
     "metadata": {},
     "output_type": "execute_result"
    }
   ],
   "source": [
    "# get top words in AmazonPrimeVideo\n",
    "\n",
    "df_top_az = top_az_tf.to_frame(name='frequency')\n",
    "df_top_az['word'] = df_top_az.index\n",
    "df_top_az.reset_index(drop=True, inplace=True)\n",
    "\n",
    "cols = ['word','frequency']\n",
    "df_top_az = df_top_az[cols]\n",
    "df_top_az.sort_values(by='frequency',ascending=False, inplace=True)\n",
    "df_top_az.head(10)"
   ]
  },
  {
   "cell_type": "code",
   "execution_count": 34,
   "metadata": {},
   "outputs": [
    {
     "data": {
      "image/png": "[encoded data removed]",
      "text/plain": [
       "<Figure size 1440x720 with 1 Axes>"
      ]
     },
     "metadata": {},
     "output_type": "display_data"
    }
   ],
   "source": [
    "plt.figure(figsize=(20,10))\n",
    "plt.title('AmazonPrimeVideo: Top 20 bi-gram Words',fontsize=25)\n",
    "\n",
    "sns.set_style(\"whitegrid\")\n",
    "sns.barplot(data=df_top_az.head(20),x='frequency',y='word',orient='h')\n",
    "\n",
    "plt.xlabel('frequency',fontsize=20)\n",
    "plt.ylabel('word',fontsize=20)\n",
    "plt.tick_params(labelsize=15)\n"
   ]
  },
  {
   "cell_type": "markdown",
   "metadata": {},
   "source": [
    "#### Venn diagram"
   ]
  },
  {
   "cell_type": "code",
   "execution_count": 35,
   "metadata": {},
   "outputs": [
    {
     "name": "stdout",
     "output_type": "stream",
     "text": [
      "Venn Diagram below shows the top 20 words for both subreddits.\n"
     ]
    },
    {
     "data": {
      "image/png": "[encoded data removed]",
      "text/plain": [
       "<Figure size 720x720 with 1 Axes>"
      ]
     },
     "metadata": {},
     "output_type": "display_data"
    }
   ],
   "source": [
    "plt.figure(figsize=(10,10))\n",
    "plt.title('Word Comparison',fontsize=25)\n",
    "\n",
    "set_a = set(df_top_netflix['word'][:20])\n",
    "set_b = set(df_top_az['word'][:20])\n",
    "\n",
    "venn = venn2([set_a,set_b],set_labels=['Netflix','AmazonPrimeVideo'])\n",
    "\n",
    "venn.get_label_by_id('100').set_text('\\n'.join(map(str,set_a-set_b)))\n",
    "venn.get_label_by_id('110').set_text('\\n'.join(map(str,set_a&set_b)))\n",
    "venn.get_label_by_id('010').set_text('\\n'.join(map(str,set_b-set_a)))\n",
    "\n",
    "venn.get_label_by_id('A').set_size(20)\n",
    "venn.get_label_by_id('B').set_size(20)\n",
    "venn.get_label_by_id('100').set_size(13)\n",
    "venn.get_label_by_id('110').set_size(13)\n",
    "venn.get_label_by_id('010').set_size(13)\n",
    "\n",
    "print('Venn Diagram below shows the top 20 words for both subreddits.')"
   ]
  },
  {
   "cell_type": "markdown",
   "metadata": {},
   "source": [
    "### Sentiment analysis"
   ]
  },
  {
   "cell_type": "markdown",
   "metadata": {},
   "source": [
    "Create a sentiment function"
   ]
  },
  {
   "cell_type": "code",
   "execution_count": 36,
   "metadata": {},
   "outputs": [],
   "source": [
    "def sentiment(x):\n",
    "    '''\n",
    "    Input will be a string\n",
    "    Output returns the sentiment score of the string\n",
    "    '''\n",
    "    sent = SentimentIntensityAnalyzer() # Instantiate\n",
    "    return sent.polarity_scores(x) # Calculating the scores of each document"
   ]
  },
  {
   "cell_type": "markdown",
   "metadata": {},
   "source": [
    "Apply the sentiment function to the lemmatised text"
   ]
  },
  {
   "cell_type": "code",
   "execution_count": 37,
   "metadata": {},
   "outputs": [],
   "source": [
    "netflix_df['word_sentiment'] = netflix_df['title_text_lem'].apply(sentiment)"
   ]
  },
  {
   "cell_type": "code",
   "execution_count": 38,
   "metadata": {},
   "outputs": [
    {
     "data": {
      "text/html": [
       "<div>\n",
       "<style scoped>\n",
       "    .dataframe tbody tr th:only-of-type {\n",
       "        vertical-align: middle;\n",
       "    }\n",
       "\n",
       "    .dataframe tbody tr th {\n",
       "        vertical-align: top;\n",
       "    }\n",
       "\n",
       "    .dataframe thead th {\n",
       "        text-align: right;\n",
       "    }\n",
       "</style>\n",
       "<table border=\"1\" class=\"dataframe\">\n",
       "  <thead>\n",
       "    <tr style=\"text-align: right;\">\n",
       "      <th></th>\n",
       "      <th>title</th>\n",
       "      <th>selftext</th>\n",
       "      <th>subreddit</th>\n",
       "      <th>title_text</th>\n",
       "      <th>title_text_tokens</th>\n",
       "      <th>title_text_stop</th>\n",
       "      <th>title_text_lem</th>\n",
       "      <th>word_sentiment</th>\n",
       "    </tr>\n",
       "  </thead>\n",
       "  <tbody>\n",
       "    <tr>\n",
       "      <th>0</th>\n",
       "      <td>heman</td>\n",
       "      <td>NaN</td>\n",
       "      <td>netflix</td>\n",
       "      <td>heman</td>\n",
       "      <td>[heman]</td>\n",
       "      <td>[heman]</td>\n",
       "      <td>heman</td>\n",
       "      <td>{'neg': 0.0, 'neu': 1.0, 'pos': 0.0, 'compound...</td>\n",
       "    </tr>\n",
       "    <tr>\n",
       "      <th>1</th>\n",
       "      <td>help me find a episode</td>\n",
       "      <td>i m looking for something i saw many years ago...</td>\n",
       "      <td>netflix</td>\n",
       "      <td>help me find a episode i m looking for somethi...</td>\n",
       "      <td>[help, me, find, a, episode, i, m, looking, fo...</td>\n",
       "      <td>[help, find, episode, looking, something, saw,...</td>\n",
       "      <td>help find episode looking something saw many y...</td>\n",
       "      <td>{'neg': 0.123, 'neu': 0.693, 'pos': 0.184, 'co...</td>\n",
       "    </tr>\n",
       "    <tr>\n",
       "      <th>2</th>\n",
       "      <td>netflix won t work</td>\n",
       "      <td>i have noticed that netflix refuses to launch ...</td>\n",
       "      <td>netflix</td>\n",
       "      <td>netflix won t work i have noticed that netflix...</td>\n",
       "      <td>[netflix, won, t, work, i, have, noticed, that...</td>\n",
       "      <td>[netflix, work, noticed, netflix, refuses, lau...</td>\n",
       "      <td>netflix work noticed netflix refuse launch sur...</td>\n",
       "      <td>{'neg': 0.053, 'neu': 0.699, 'pos': 0.248, 'co...</td>\n",
       "    </tr>\n",
       "    <tr>\n",
       "      <th>3</th>\n",
       "      <td>army of the dead</td>\n",
       "      <td>army of the dead will be set in new york city ...</td>\n",
       "      <td>netflix</td>\n",
       "      <td>army of the dead  army of the dead will be set...</td>\n",
       "      <td>[army, of, the, dead, army, of, the, dead, wil...</td>\n",
       "      <td>[army, dead, army, dead, set, new, york, city,...</td>\n",
       "      <td>army dead army dead set new york city month ev...</td>\n",
       "      <td>{'neg': 0.291, 'neu': 0.709, 'pos': 0.0, 'comp...</td>\n",
       "    </tr>\n",
       "    <tr>\n",
       "      <th>4</th>\n",
       "      <td>believe me the abduction of lisa mcvey</td>\n",
       "      <td>sorry little rant but holy shit those female p...</td>\n",
       "      <td>netflix</td>\n",
       "      <td>believe me the abduction of lisa mcvey sorry l...</td>\n",
       "      <td>[believe, me, the, abduction, of, lisa, mcvey,...</td>\n",
       "      <td>[believe, abduction, lisa, mcvey, sorry, littl...</td>\n",
       "      <td>believe abduction lisa mcvey sorry little rant...</td>\n",
       "      <td>{'neg': 0.491, 'neu': 0.472, 'pos': 0.037, 'co...</td>\n",
       "    </tr>\n",
       "  </tbody>\n",
       "</table>\n",
       "</div>"
      ],
      "text/plain": [
       "                                    title  \\\n",
       "0                                   heman   \n",
       "1                  help me find a episode   \n",
       "2                      netflix won t work   \n",
       "3                       army of the dead    \n",
       "4  believe me the abduction of lisa mcvey   \n",
       "\n",
       "                                            selftext subreddit  \\\n",
       "0                                                NaN   netflix   \n",
       "1  i m looking for something i saw many years ago...   netflix   \n",
       "2  i have noticed that netflix refuses to launch ...   netflix   \n",
       "3  army of the dead will be set in new york city ...   netflix   \n",
       "4  sorry little rant but holy shit those female p...   netflix   \n",
       "\n",
       "                                          title_text  \\\n",
       "0                                             heman    \n",
       "1  help me find a episode i m looking for somethi...   \n",
       "2  netflix won t work i have noticed that netflix...   \n",
       "3  army of the dead  army of the dead will be set...   \n",
       "4  believe me the abduction of lisa mcvey sorry l...   \n",
       "\n",
       "                                   title_text_tokens  \\\n",
       "0                                            [heman]   \n",
       "1  [help, me, find, a, episode, i, m, looking, fo...   \n",
       "2  [netflix, won, t, work, i, have, noticed, that...   \n",
       "3  [army, of, the, dead, army, of, the, dead, wil...   \n",
       "4  [believe, me, the, abduction, of, lisa, mcvey,...   \n",
       "\n",
       "                                     title_text_stop  \\\n",
       "0                                            [heman]   \n",
       "1  [help, find, episode, looking, something, saw,...   \n",
       "2  [netflix, work, noticed, netflix, refuses, lau...   \n",
       "3  [army, dead, army, dead, set, new, york, city,...   \n",
       "4  [believe, abduction, lisa, mcvey, sorry, littl...   \n",
       "\n",
       "                                      title_text_lem  \\\n",
       "0                                              heman   \n",
       "1  help find episode looking something saw many y...   \n",
       "2  netflix work noticed netflix refuse launch sur...   \n",
       "3  army dead army dead set new york city month ev...   \n",
       "4  believe abduction lisa mcvey sorry little rant...   \n",
       "\n",
       "                                      word_sentiment  \n",
       "0  {'neg': 0.0, 'neu': 1.0, 'pos': 0.0, 'compound...  \n",
       "1  {'neg': 0.123, 'neu': 0.693, 'pos': 0.184, 'co...  \n",
       "2  {'neg': 0.053, 'neu': 0.699, 'pos': 0.248, 'co...  \n",
       "3  {'neg': 0.291, 'neu': 0.709, 'pos': 0.0, 'comp...  \n",
       "4  {'neg': 0.491, 'neu': 0.472, 'pos': 0.037, 'co...  "
      ]
     },
     "execution_count": 38,
     "metadata": {},
     "output_type": "execute_result"
    }
   ],
   "source": [
    "netflix_df.head()"
   ]
  },
  {
   "cell_type": "code",
   "execution_count": 39,
   "metadata": {},
   "outputs": [],
   "source": [
    "az_df['word_sentiment'] = az_df['title_text_lem'].apply(sentiment)"
   ]
  },
  {
   "cell_type": "code",
   "execution_count": 40,
   "metadata": {},
   "outputs": [
    {
     "data": {
      "text/html": [
       "<div>\n",
       "<style scoped>\n",
       "    .dataframe tbody tr th:only-of-type {\n",
       "        vertical-align: middle;\n",
       "    }\n",
       "\n",
       "    .dataframe tbody tr th {\n",
       "        vertical-align: top;\n",
       "    }\n",
       "\n",
       "    .dataframe thead th {\n",
       "        text-align: right;\n",
       "    }\n",
       "</style>\n",
       "<table border=\"1\" class=\"dataframe\">\n",
       "  <thead>\n",
       "    <tr style=\"text-align: right;\">\n",
       "      <th></th>\n",
       "      <th>title</th>\n",
       "      <th>selftext</th>\n",
       "      <th>subreddit</th>\n",
       "      <th>title_text</th>\n",
       "      <th>title_text_tokens</th>\n",
       "      <th>title_text_stop</th>\n",
       "      <th>title_text_lem</th>\n",
       "      <th>word_sentiment</th>\n",
       "    </tr>\n",
       "  </thead>\n",
       "  <tbody>\n",
       "    <tr>\n",
       "      <th>0</th>\n",
       "      <td>any stack tv subscribers here</td>\n",
       "      <td>NaN</td>\n",
       "      <td>AmazonPrimeVideo</td>\n",
       "      <td>any stack tv subscribers here</td>\n",
       "      <td>[any, stack, tv, subscribers, here]</td>\n",
       "      <td>[stack, tv, subscribers]</td>\n",
       "      <td>stack tv subscriber</td>\n",
       "      <td>{'neg': 0.0, 'neu': 1.0, 'pos': 0.0, 'compound...</td>\n",
       "    </tr>\n",
       "    <tr>\n",
       "      <th>1</th>\n",
       "      <td>chromecast</td>\n",
       "      <td>NaN</td>\n",
       "      <td>AmazonPrimeVideo</td>\n",
       "      <td>chromecast</td>\n",
       "      <td>[chromecast]</td>\n",
       "      <td>[chromecast]</td>\n",
       "      <td>chromecast</td>\n",
       "      <td>{'neg': 0.0, 'neu': 1.0, 'pos': 0.0, 'compound...</td>\n",
       "    </tr>\n",
       "    <tr>\n",
       "      <th>2</th>\n",
       "      <td>using digital reward credit for channel subscr...</td>\n",
       "      <td>i ve got some digital rewards for no rush ship...</td>\n",
       "      <td>AmazonPrimeVideo</td>\n",
       "      <td>using digital reward credit for channel subscr...</td>\n",
       "      <td>[using, digital, reward, credit, for, channel,...</td>\n",
       "      <td>[using, digital, reward, credit, channel, subs...</td>\n",
       "      <td>using digital reward credit channel subscripti...</td>\n",
       "      <td>{'neg': 0.0, 'neu': 0.576, 'pos': 0.424, 'comp...</td>\n",
       "    </tr>\n",
       "    <tr>\n",
       "      <th>3</th>\n",
       "      <td>infinite loading during ads</td>\n",
       "      <td>NaN</td>\n",
       "      <td>AmazonPrimeVideo</td>\n",
       "      <td>infinite loading during ads</td>\n",
       "      <td>[infinite, loading, during, ads]</td>\n",
       "      <td>[infinite, loading, ads]</td>\n",
       "      <td>infinite loading ad</td>\n",
       "      <td>{'neg': 0.0, 'neu': 1.0, 'pos': 0.0, 'compound...</td>\n",
       "    </tr>\n",
       "    <tr>\n",
       "      <th>4</th>\n",
       "      <td>infinite loading screen whenever an ad tries t...</td>\n",
       "      <td>NaN</td>\n",
       "      <td>AmazonPrimeVideo</td>\n",
       "      <td>infinite loading screen whenever an ad tries t...</td>\n",
       "      <td>[infinite, loading, screen, whenever, an, ad, ...</td>\n",
       "      <td>[infinite, loading, screen, whenever, ad, trie...</td>\n",
       "      <td>infinite loading screen whenever ad try load</td>\n",
       "      <td>{'neg': 0.0, 'neu': 1.0, 'pos': 0.0, 'compound...</td>\n",
       "    </tr>\n",
       "  </tbody>\n",
       "</table>\n",
       "</div>"
      ],
      "text/plain": [
       "                                               title  \\\n",
       "0                     any stack tv subscribers here    \n",
       "1                                         chromecast   \n",
       "2  using digital reward credit for channel subscr...   \n",
       "3                        infinite loading during ads   \n",
       "4  infinite loading screen whenever an ad tries t...   \n",
       "\n",
       "                                            selftext         subreddit  \\\n",
       "0                                                NaN  AmazonPrimeVideo   \n",
       "1                                                NaN  AmazonPrimeVideo   \n",
       "2  i ve got some digital rewards for no rush ship...  AmazonPrimeVideo   \n",
       "3                                                NaN  AmazonPrimeVideo   \n",
       "4                                                NaN  AmazonPrimeVideo   \n",
       "\n",
       "                                          title_text  \\\n",
       "0                    any stack tv subscribers here     \n",
       "1                                        chromecast    \n",
       "2  using digital reward credit for channel subscr...   \n",
       "3                       infinite loading during ads    \n",
       "4  infinite loading screen whenever an ad tries t...   \n",
       "\n",
       "                                   title_text_tokens  \\\n",
       "0                [any, stack, tv, subscribers, here]   \n",
       "1                                       [chromecast]   \n",
       "2  [using, digital, reward, credit, for, channel,...   \n",
       "3                   [infinite, loading, during, ads]   \n",
       "4  [infinite, loading, screen, whenever, an, ad, ...   \n",
       "\n",
       "                                     title_text_stop  \\\n",
       "0                           [stack, tv, subscribers]   \n",
       "1                                       [chromecast]   \n",
       "2  [using, digital, reward, credit, channel, subs...   \n",
       "3                           [infinite, loading, ads]   \n",
       "4  [infinite, loading, screen, whenever, ad, trie...   \n",
       "\n",
       "                                      title_text_lem  \\\n",
       "0                                stack tv subscriber   \n",
       "1                                         chromecast   \n",
       "2  using digital reward credit channel subscripti...   \n",
       "3                                infinite loading ad   \n",
       "4       infinite loading screen whenever ad try load   \n",
       "\n",
       "                                      word_sentiment  \n",
       "0  {'neg': 0.0, 'neu': 1.0, 'pos': 0.0, 'compound...  \n",
       "1  {'neg': 0.0, 'neu': 1.0, 'pos': 0.0, 'compound...  \n",
       "2  {'neg': 0.0, 'neu': 0.576, 'pos': 0.424, 'comp...  \n",
       "3  {'neg': 0.0, 'neu': 1.0, 'pos': 0.0, 'compound...  \n",
       "4  {'neg': 0.0, 'neu': 1.0, 'pos': 0.0, 'compound...  "
      ]
     },
     "execution_count": 40,
     "metadata": {},
     "output_type": "execute_result"
    }
   ],
   "source": [
    "az_df.head()"
   ]
  },
  {
   "cell_type": "markdown",
   "metadata": {},
   "source": [
    "Extracting the compound scores from the sentiment analysis and putting into a column. Compound is the normalised positive, negative and neutral scores"
   ]
  },
  {
   "cell_type": "code",
   "execution_count": 41,
   "metadata": {},
   "outputs": [],
   "source": [
    "netflix_df['word_compound']  = netflix_df['word_sentiment'].apply(lambda score_dict: score_dict['compound'])"
   ]
  },
  {
   "cell_type": "code",
   "execution_count": 42,
   "metadata": {},
   "outputs": [],
   "source": [
    "az_df['word_compound']  = az_df['word_sentiment'].apply(lambda score_dict: score_dict['compound'])"
   ]
  },
  {
   "cell_type": "markdown",
   "metadata": {},
   "source": [
    "Create a function to assign compound scores in the following manner --> neutral: 0, >0 : positive and <0 : negative\n"
   ]
  },
  {
   "cell_type": "code",
   "execution_count": 43,
   "metadata": {},
   "outputs": [],
   "source": [
    "def assign_compound(x):\n",
    "    if x == 0:\n",
    "        return 'neu'\n",
    "    elif x > 0:\n",
    "        return 'pos'\n",
    "    elif x < 0:\n",
    "        return 'neg'"
   ]
  },
  {
   "cell_type": "code",
   "execution_count": 44,
   "metadata": {},
   "outputs": [],
   "source": [
    "netflix_df['word_comp_score'] = netflix_df['word_compound'].apply(assign_compound)"
   ]
  },
  {
   "cell_type": "code",
   "execution_count": 45,
   "metadata": {},
   "outputs": [
    {
     "data": {
      "text/html": [
       "<div>\n",
       "<style scoped>\n",
       "    .dataframe tbody tr th:only-of-type {\n",
       "        vertical-align: middle;\n",
       "    }\n",
       "\n",
       "    .dataframe tbody tr th {\n",
       "        vertical-align: top;\n",
       "    }\n",
       "\n",
       "    .dataframe thead th {\n",
       "        text-align: right;\n",
       "    }\n",
       "</style>\n",
       "<table border=\"1\" class=\"dataframe\">\n",
       "  <thead>\n",
       "    <tr style=\"text-align: right;\">\n",
       "      <th></th>\n",
       "      <th>title</th>\n",
       "      <th>selftext</th>\n",
       "      <th>subreddit</th>\n",
       "      <th>title_text</th>\n",
       "      <th>title_text_tokens</th>\n",
       "      <th>title_text_stop</th>\n",
       "      <th>title_text_lem</th>\n",
       "      <th>word_sentiment</th>\n",
       "      <th>word_compound</th>\n",
       "      <th>word_comp_score</th>\n",
       "    </tr>\n",
       "  </thead>\n",
       "  <tbody>\n",
       "    <tr>\n",
       "      <th>0</th>\n",
       "      <td>heman</td>\n",
       "      <td>NaN</td>\n",
       "      <td>netflix</td>\n",
       "      <td>heman</td>\n",
       "      <td>[heman]</td>\n",
       "      <td>[heman]</td>\n",
       "      <td>heman</td>\n",
       "      <td>{'neg': 0.0, 'neu': 1.0, 'pos': 0.0, 'compound...</td>\n",
       "      <td>0.0000</td>\n",
       "      <td>neu</td>\n",
       "    </tr>\n",
       "    <tr>\n",
       "      <th>1</th>\n",
       "      <td>help me find a episode</td>\n",
       "      <td>i m looking for something i saw many years ago...</td>\n",
       "      <td>netflix</td>\n",
       "      <td>help me find a episode i m looking for somethi...</td>\n",
       "      <td>[help, me, find, a, episode, i, m, looking, fo...</td>\n",
       "      <td>[help, find, episode, looking, something, saw,...</td>\n",
       "      <td>help find episode looking something saw many y...</td>\n",
       "      <td>{'neg': 0.123, 'neu': 0.693, 'pos': 0.184, 'co...</td>\n",
       "      <td>0.6124</td>\n",
       "      <td>pos</td>\n",
       "    </tr>\n",
       "    <tr>\n",
       "      <th>2</th>\n",
       "      <td>netflix won t work</td>\n",
       "      <td>i have noticed that netflix refuses to launch ...</td>\n",
       "      <td>netflix</td>\n",
       "      <td>netflix won t work i have noticed that netflix...</td>\n",
       "      <td>[netflix, won, t, work, i, have, noticed, that...</td>\n",
       "      <td>[netflix, work, noticed, netflix, refuses, lau...</td>\n",
       "      <td>netflix work noticed netflix refuse launch sur...</td>\n",
       "      <td>{'neg': 0.053, 'neu': 0.699, 'pos': 0.248, 'co...</td>\n",
       "      <td>0.7960</td>\n",
       "      <td>pos</td>\n",
       "    </tr>\n",
       "    <tr>\n",
       "      <th>3</th>\n",
       "      <td>army of the dead</td>\n",
       "      <td>army of the dead will be set in new york city ...</td>\n",
       "      <td>netflix</td>\n",
       "      <td>army of the dead  army of the dead will be set...</td>\n",
       "      <td>[army, of, the, dead, army, of, the, dead, wil...</td>\n",
       "      <td>[army, dead, army, dead, set, new, york, city,...</td>\n",
       "      <td>army dead army dead set new york city month ev...</td>\n",
       "      <td>{'neg': 0.291, 'neu': 0.709, 'pos': 0.0, 'comp...</td>\n",
       "      <td>-0.8625</td>\n",
       "      <td>neg</td>\n",
       "    </tr>\n",
       "    <tr>\n",
       "      <th>4</th>\n",
       "      <td>believe me the abduction of lisa mcvey</td>\n",
       "      <td>sorry little rant but holy shit those female p...</td>\n",
       "      <td>netflix</td>\n",
       "      <td>believe me the abduction of lisa mcvey sorry l...</td>\n",
       "      <td>[believe, me, the, abduction, of, lisa, mcvey,...</td>\n",
       "      <td>[believe, abduction, lisa, mcvey, sorry, littl...</td>\n",
       "      <td>believe abduction lisa mcvey sorry little rant...</td>\n",
       "      <td>{'neg': 0.491, 'neu': 0.472, 'pos': 0.037, 'co...</td>\n",
       "      <td>-0.9749</td>\n",
       "      <td>neg</td>\n",
       "    </tr>\n",
       "  </tbody>\n",
       "</table>\n",
       "</div>"
      ],
      "text/plain": [
       "                                    title  \\\n",
       "0                                   heman   \n",
       "1                  help me find a episode   \n",
       "2                      netflix won t work   \n",
       "3                       army of the dead    \n",
       "4  believe me the abduction of lisa mcvey   \n",
       "\n",
       "                                            selftext subreddit  \\\n",
       "0                                                NaN   netflix   \n",
       "1  i m looking for something i saw many years ago...   netflix   \n",
       "2  i have noticed that netflix refuses to launch ...   netflix   \n",
       "3  army of the dead will be set in new york city ...   netflix   \n",
       "4  sorry little rant but holy shit those female p...   netflix   \n",
       "\n",
       "                                          title_text  \\\n",
       "0                                             heman    \n",
       "1  help me find a episode i m looking for somethi...   \n",
       "2  netflix won t work i have noticed that netflix...   \n",
       "3  army of the dead  army of the dead will be set...   \n",
       "4  believe me the abduction of lisa mcvey sorry l...   \n",
       "\n",
       "                                   title_text_tokens  \\\n",
       "0                                            [heman]   \n",
       "1  [help, me, find, a, episode, i, m, looking, fo...   \n",
       "2  [netflix, won, t, work, i, have, noticed, that...   \n",
       "3  [army, of, the, dead, army, of, the, dead, wil...   \n",
       "4  [believe, me, the, abduction, of, lisa, mcvey,...   \n",
       "\n",
       "                                     title_text_stop  \\\n",
       "0                                            [heman]   \n",
       "1  [help, find, episode, looking, something, saw,...   \n",
       "2  [netflix, work, noticed, netflix, refuses, lau...   \n",
       "3  [army, dead, army, dead, set, new, york, city,...   \n",
       "4  [believe, abduction, lisa, mcvey, sorry, littl...   \n",
       "\n",
       "                                      title_text_lem  \\\n",
       "0                                              heman   \n",
       "1  help find episode looking something saw many y...   \n",
       "2  netflix work noticed netflix refuse launch sur...   \n",
       "3  army dead army dead set new york city month ev...   \n",
       "4  believe abduction lisa mcvey sorry little rant...   \n",
       "\n",
       "                                      word_sentiment  word_compound  \\\n",
       "0  {'neg': 0.0, 'neu': 1.0, 'pos': 0.0, 'compound...         0.0000   \n",
       "1  {'neg': 0.123, 'neu': 0.693, 'pos': 0.184, 'co...         0.6124   \n",
       "2  {'neg': 0.053, 'neu': 0.699, 'pos': 0.248, 'co...         0.7960   \n",
       "3  {'neg': 0.291, 'neu': 0.709, 'pos': 0.0, 'comp...        -0.8625   \n",
       "4  {'neg': 0.491, 'neu': 0.472, 'pos': 0.037, 'co...        -0.9749   \n",
       "\n",
       "  word_comp_score  \n",
       "0             neu  \n",
       "1             pos  \n",
       "2             pos  \n",
       "3             neg  \n",
       "4             neg  "
      ]
     },
     "execution_count": 45,
     "metadata": {},
     "output_type": "execute_result"
    }
   ],
   "source": [
    "netflix_df.head()"
   ]
  },
  {
   "cell_type": "code",
   "execution_count": 46,
   "metadata": {},
   "outputs": [],
   "source": [
    "az_df['word_comp_score'] = az_df['word_compound'].apply(assign_compound)"
   ]
  },
  {
   "cell_type": "code",
   "execution_count": 47,
   "metadata": {},
   "outputs": [
    {
     "data": {
      "text/html": [
       "<div>\n",
       "<style scoped>\n",
       "    .dataframe tbody tr th:only-of-type {\n",
       "        vertical-align: middle;\n",
       "    }\n",
       "\n",
       "    .dataframe tbody tr th {\n",
       "        vertical-align: top;\n",
       "    }\n",
       "\n",
       "    .dataframe thead th {\n",
       "        text-align: right;\n",
       "    }\n",
       "</style>\n",
       "<table border=\"1\" class=\"dataframe\">\n",
       "  <thead>\n",
       "    <tr style=\"text-align: right;\">\n",
       "      <th></th>\n",
       "      <th>title</th>\n",
       "      <th>selftext</th>\n",
       "      <th>subreddit</th>\n",
       "      <th>title_text</th>\n",
       "      <th>title_text_tokens</th>\n",
       "      <th>title_text_stop</th>\n",
       "      <th>title_text_lem</th>\n",
       "      <th>word_sentiment</th>\n",
       "      <th>word_compound</th>\n",
       "      <th>word_comp_score</th>\n",
       "    </tr>\n",
       "  </thead>\n",
       "  <tbody>\n",
       "    <tr>\n",
       "      <th>0</th>\n",
       "      <td>any stack tv subscribers here</td>\n",
       "      <td>NaN</td>\n",
       "      <td>AmazonPrimeVideo</td>\n",
       "      <td>any stack tv subscribers here</td>\n",
       "      <td>[any, stack, tv, subscribers, here]</td>\n",
       "      <td>[stack, tv, subscribers]</td>\n",
       "      <td>stack tv subscriber</td>\n",
       "      <td>{'neg': 0.0, 'neu': 1.0, 'pos': 0.0, 'compound...</td>\n",
       "      <td>0.00</td>\n",
       "      <td>neu</td>\n",
       "    </tr>\n",
       "    <tr>\n",
       "      <th>1</th>\n",
       "      <td>chromecast</td>\n",
       "      <td>NaN</td>\n",
       "      <td>AmazonPrimeVideo</td>\n",
       "      <td>chromecast</td>\n",
       "      <td>[chromecast]</td>\n",
       "      <td>[chromecast]</td>\n",
       "      <td>chromecast</td>\n",
       "      <td>{'neg': 0.0, 'neu': 1.0, 'pos': 0.0, 'compound...</td>\n",
       "      <td>0.00</td>\n",
       "      <td>neu</td>\n",
       "    </tr>\n",
       "    <tr>\n",
       "      <th>2</th>\n",
       "      <td>using digital reward credit for channel subscr...</td>\n",
       "      <td>i ve got some digital rewards for no rush ship...</td>\n",
       "      <td>AmazonPrimeVideo</td>\n",
       "      <td>using digital reward credit for channel subscr...</td>\n",
       "      <td>[using, digital, reward, credit, for, channel,...</td>\n",
       "      <td>[using, digital, reward, credit, channel, subs...</td>\n",
       "      <td>using digital reward credit channel subscripti...</td>\n",
       "      <td>{'neg': 0.0, 'neu': 0.576, 'pos': 0.424, 'comp...</td>\n",
       "      <td>0.91</td>\n",
       "      <td>pos</td>\n",
       "    </tr>\n",
       "    <tr>\n",
       "      <th>3</th>\n",
       "      <td>infinite loading during ads</td>\n",
       "      <td>NaN</td>\n",
       "      <td>AmazonPrimeVideo</td>\n",
       "      <td>infinite loading during ads</td>\n",
       "      <td>[infinite, loading, during, ads]</td>\n",
       "      <td>[infinite, loading, ads]</td>\n",
       "      <td>infinite loading ad</td>\n",
       "      <td>{'neg': 0.0, 'neu': 1.0, 'pos': 0.0, 'compound...</td>\n",
       "      <td>0.00</td>\n",
       "      <td>neu</td>\n",
       "    </tr>\n",
       "    <tr>\n",
       "      <th>4</th>\n",
       "      <td>infinite loading screen whenever an ad tries t...</td>\n",
       "      <td>NaN</td>\n",
       "      <td>AmazonPrimeVideo</td>\n",
       "      <td>infinite loading screen whenever an ad tries t...</td>\n",
       "      <td>[infinite, loading, screen, whenever, an, ad, ...</td>\n",
       "      <td>[infinite, loading, screen, whenever, ad, trie...</td>\n",
       "      <td>infinite loading screen whenever ad try load</td>\n",
       "      <td>{'neg': 0.0, 'neu': 1.0, 'pos': 0.0, 'compound...</td>\n",
       "      <td>0.00</td>\n",
       "      <td>neu</td>\n",
       "    </tr>\n",
       "  </tbody>\n",
       "</table>\n",
       "</div>"
      ],
      "text/plain": [
       "                                               title  \\\n",
       "0                     any stack tv subscribers here    \n",
       "1                                         chromecast   \n",
       "2  using digital reward credit for channel subscr...   \n",
       "3                        infinite loading during ads   \n",
       "4  infinite loading screen whenever an ad tries t...   \n",
       "\n",
       "                                            selftext         subreddit  \\\n",
       "0                                                NaN  AmazonPrimeVideo   \n",
       "1                                                NaN  AmazonPrimeVideo   \n",
       "2  i ve got some digital rewards for no rush ship...  AmazonPrimeVideo   \n",
       "3                                                NaN  AmazonPrimeVideo   \n",
       "4                                                NaN  AmazonPrimeVideo   \n",
       "\n",
       "                                          title_text  \\\n",
       "0                    any stack tv subscribers here     \n",
       "1                                        chromecast    \n",
       "2  using digital reward credit for channel subscr...   \n",
       "3                       infinite loading during ads    \n",
       "4  infinite loading screen whenever an ad tries t...   \n",
       "\n",
       "                                   title_text_tokens  \\\n",
       "0                [any, stack, tv, subscribers, here]   \n",
       "1                                       [chromecast]   \n",
       "2  [using, digital, reward, credit, for, channel,...   \n",
       "3                   [infinite, loading, during, ads]   \n",
       "4  [infinite, loading, screen, whenever, an, ad, ...   \n",
       "\n",
       "                                     title_text_stop  \\\n",
       "0                           [stack, tv, subscribers]   \n",
       "1                                       [chromecast]   \n",
       "2  [using, digital, reward, credit, channel, subs...   \n",
       "3                           [infinite, loading, ads]   \n",
       "4  [infinite, loading, screen, whenever, ad, trie...   \n",
       "\n",
       "                                      title_text_lem  \\\n",
       "0                                stack tv subscriber   \n",
       "1                                         chromecast   \n",
       "2  using digital reward credit channel subscripti...   \n",
       "3                                infinite loading ad   \n",
       "4       infinite loading screen whenever ad try load   \n",
       "\n",
       "                                      word_sentiment  word_compound  \\\n",
       "0  {'neg': 0.0, 'neu': 1.0, 'pos': 0.0, 'compound...           0.00   \n",
       "1  {'neg': 0.0, 'neu': 1.0, 'pos': 0.0, 'compound...           0.00   \n",
       "2  {'neg': 0.0, 'neu': 0.576, 'pos': 0.424, 'comp...           0.91   \n",
       "3  {'neg': 0.0, 'neu': 1.0, 'pos': 0.0, 'compound...           0.00   \n",
       "4  {'neg': 0.0, 'neu': 1.0, 'pos': 0.0, 'compound...           0.00   \n",
       "\n",
       "  word_comp_score  \n",
       "0             neu  \n",
       "1             neu  \n",
       "2             pos  \n",
       "3             neu  \n",
       "4             neu  "
      ]
     },
     "execution_count": 47,
     "metadata": {},
     "output_type": "execute_result"
    }
   ],
   "source": [
    "az_df.head()"
   ]
  },
  {
   "cell_type": "code",
   "execution_count": 54,
   "metadata": {},
   "outputs": [
    {
     "name": "stdout",
     "output_type": "stream",
     "text": [
      "Overall, there seem to be more positive sentiment for AmazonPrimeVideo compared to Netflix.\n",
      "Its negative sentiment is also lower than Netflix\n"
     ]
    },
    {
     "data": {
      "image/png": "[encoded data removed]",
      "text/plain": [
       "<Figure size 432x288 with 1 Axes>"
      ]
     },
     "metadata": {},
     "output_type": "display_data"
    }
   ],
   "source": [
    "print('Overall, there seem to be more positive sentiment for AmazonPrimeVideo compared to Netflix.\\nIts negative sentiment is also lower than Netflix')\n",
    "\n",
    "X = ['Positive', 'Neutral', 'Negative']\n",
    "netflix = list(netflix_df['word_comp_score'].value_counts())\n",
    "amazon = list(az_df['word_comp_score'].value_counts())\n",
    "  \n",
    "X_axis = np.arange(len(X))\n",
    "  \n",
    "plt.bar(X_axis - 0.2, netflix, 0.4, label = 'Netflix', color = 'r')\n",
    "plt.bar(X_axis + 0.2, amazon, 0.4, label = 'Amazon')\n",
    "  \n",
    "plt.xticks(X_axis, X)\n",
    "plt.ylabel(\"Count\")\n",
    "plt.title(\"Sentiment analysis\")\n",
    "plt.legend()\n",
    "plt.show()"
   ]
  },
  {
   "cell_type": "markdown",
   "metadata": {},
   "source": [
    "### Data storage"
   ]
  },
  {
   "cell_type": "markdown",
   "metadata": {},
   "source": [
    "Concatenate both subreddits in preparation for modelling"
   ]
  },
  {
   "cell_type": "code",
   "execution_count": 49,
   "metadata": {},
   "outputs": [],
   "source": [
    "df = pd.concat([netflix_df, az_df], axis = 0)"
   ]
  },
  {
   "cell_type": "code",
   "execution_count": 50,
   "metadata": {},
   "outputs": [
    {
     "data": {
      "text/html": [
       "<div>\n",
       "<style scoped>\n",
       "    .dataframe tbody tr th:only-of-type {\n",
       "        vertical-align: middle;\n",
       "    }\n",
       "\n",
       "    .dataframe tbody tr th {\n",
       "        vertical-align: top;\n",
       "    }\n",
       "\n",
       "    .dataframe thead th {\n",
       "        text-align: right;\n",
       "    }\n",
       "</style>\n",
       "<table border=\"1\" class=\"dataframe\">\n",
       "  <thead>\n",
       "    <tr style=\"text-align: right;\">\n",
       "      <th></th>\n",
       "      <th>title</th>\n",
       "      <th>selftext</th>\n",
       "      <th>subreddit</th>\n",
       "      <th>title_text</th>\n",
       "      <th>title_text_tokens</th>\n",
       "      <th>title_text_stop</th>\n",
       "      <th>title_text_lem</th>\n",
       "      <th>word_sentiment</th>\n",
       "      <th>word_compound</th>\n",
       "      <th>word_comp_score</th>\n",
       "    </tr>\n",
       "  </thead>\n",
       "  <tbody>\n",
       "    <tr>\n",
       "      <th>0</th>\n",
       "      <td>heman</td>\n",
       "      <td>NaN</td>\n",
       "      <td>netflix</td>\n",
       "      <td>heman</td>\n",
       "      <td>[heman]</td>\n",
       "      <td>[heman]</td>\n",
       "      <td>heman</td>\n",
       "      <td>{'neg': 0.0, 'neu': 1.0, 'pos': 0.0, 'compound...</td>\n",
       "      <td>0.0000</td>\n",
       "      <td>neu</td>\n",
       "    </tr>\n",
       "    <tr>\n",
       "      <th>1</th>\n",
       "      <td>help me find a episode</td>\n",
       "      <td>i m looking for something i saw many years ago...</td>\n",
       "      <td>netflix</td>\n",
       "      <td>help me find a episode i m looking for somethi...</td>\n",
       "      <td>[help, me, find, a, episode, i, m, looking, fo...</td>\n",
       "      <td>[help, find, episode, looking, something, saw,...</td>\n",
       "      <td>help find episode looking something saw many y...</td>\n",
       "      <td>{'neg': 0.123, 'neu': 0.693, 'pos': 0.184, 'co...</td>\n",
       "      <td>0.6124</td>\n",
       "      <td>pos</td>\n",
       "    </tr>\n",
       "    <tr>\n",
       "      <th>2</th>\n",
       "      <td>netflix won t work</td>\n",
       "      <td>i have noticed that netflix refuses to launch ...</td>\n",
       "      <td>netflix</td>\n",
       "      <td>netflix won t work i have noticed that netflix...</td>\n",
       "      <td>[netflix, won, t, work, i, have, noticed, that...</td>\n",
       "      <td>[netflix, work, noticed, netflix, refuses, lau...</td>\n",
       "      <td>netflix work noticed netflix refuse launch sur...</td>\n",
       "      <td>{'neg': 0.053, 'neu': 0.699, 'pos': 0.248, 'co...</td>\n",
       "      <td>0.7960</td>\n",
       "      <td>pos</td>\n",
       "    </tr>\n",
       "    <tr>\n",
       "      <th>3</th>\n",
       "      <td>army of the dead</td>\n",
       "      <td>army of the dead will be set in new york city ...</td>\n",
       "      <td>netflix</td>\n",
       "      <td>army of the dead  army of the dead will be set...</td>\n",
       "      <td>[army, of, the, dead, army, of, the, dead, wil...</td>\n",
       "      <td>[army, dead, army, dead, set, new, york, city,...</td>\n",
       "      <td>army dead army dead set new york city month ev...</td>\n",
       "      <td>{'neg': 0.291, 'neu': 0.709, 'pos': 0.0, 'comp...</td>\n",
       "      <td>-0.8625</td>\n",
       "      <td>neg</td>\n",
       "    </tr>\n",
       "    <tr>\n",
       "      <th>4</th>\n",
       "      <td>believe me the abduction of lisa mcvey</td>\n",
       "      <td>sorry little rant but holy shit those female p...</td>\n",
       "      <td>netflix</td>\n",
       "      <td>believe me the abduction of lisa mcvey sorry l...</td>\n",
       "      <td>[believe, me, the, abduction, of, lisa, mcvey,...</td>\n",
       "      <td>[believe, abduction, lisa, mcvey, sorry, littl...</td>\n",
       "      <td>believe abduction lisa mcvey sorry little rant...</td>\n",
       "      <td>{'neg': 0.491, 'neu': 0.472, 'pos': 0.037, 'co...</td>\n",
       "      <td>-0.9749</td>\n",
       "      <td>neg</td>\n",
       "    </tr>\n",
       "  </tbody>\n",
       "</table>\n",
       "</div>"
      ],
      "text/plain": [
       "                                    title  \\\n",
       "0                                   heman   \n",
       "1                  help me find a episode   \n",
       "2                      netflix won t work   \n",
       "3                       army of the dead    \n",
       "4  believe me the abduction of lisa mcvey   \n",
       "\n",
       "                                            selftext subreddit  \\\n",
       "0                                                NaN   netflix   \n",
       "1  i m looking for something i saw many years ago...   netflix   \n",
       "2  i have noticed that netflix refuses to launch ...   netflix   \n",
       "3  army of the dead will be set in new york city ...   netflix   \n",
       "4  sorry little rant but holy shit those female p...   netflix   \n",
       "\n",
       "                                          title_text  \\\n",
       "0                                             heman    \n",
       "1  help me find a episode i m looking for somethi...   \n",
       "2  netflix won t work i have noticed that netflix...   \n",
       "3  army of the dead  army of the dead will be set...   \n",
       "4  believe me the abduction of lisa mcvey sorry l...   \n",
       "\n",
       "                                   title_text_tokens  \\\n",
       "0                                            [heman]   \n",
       "1  [help, me, find, a, episode, i, m, looking, fo...   \n",
       "2  [netflix, won, t, work, i, have, noticed, that...   \n",
       "3  [army, of, the, dead, army, of, the, dead, wil...   \n",
       "4  [believe, me, the, abduction, of, lisa, mcvey,...   \n",
       "\n",
       "                                     title_text_stop  \\\n",
       "0                                            [heman]   \n",
       "1  [help, find, episode, looking, something, saw,...   \n",
       "2  [netflix, work, noticed, netflix, refuses, lau...   \n",
       "3  [army, dead, army, dead, set, new, york, city,...   \n",
       "4  [believe, abduction, lisa, mcvey, sorry, littl...   \n",
       "\n",
       "                                      title_text_lem  \\\n",
       "0                                              heman   \n",
       "1  help find episode looking something saw many y...   \n",
       "2  netflix work noticed netflix refuse launch sur...   \n",
       "3  army dead army dead set new york city month ev...   \n",
       "4  believe abduction lisa mcvey sorry little rant...   \n",
       "\n",
       "                                      word_sentiment  word_compound  \\\n",
       "0  {'neg': 0.0, 'neu': 1.0, 'pos': 0.0, 'compound...         0.0000   \n",
       "1  {'neg': 0.123, 'neu': 0.693, 'pos': 0.184, 'co...         0.6124   \n",
       "2  {'neg': 0.053, 'neu': 0.699, 'pos': 0.248, 'co...         0.7960   \n",
       "3  {'neg': 0.291, 'neu': 0.709, 'pos': 0.0, 'comp...        -0.8625   \n",
       "4  {'neg': 0.491, 'neu': 0.472, 'pos': 0.037, 'co...        -0.9749   \n",
       "\n",
       "  word_comp_score  \n",
       "0             neu  \n",
       "1             pos  \n",
       "2             pos  \n",
       "3             neg  \n",
       "4             neg  "
      ]
     },
     "execution_count": 50,
     "metadata": {},
     "output_type": "execute_result"
    }
   ],
   "source": [
    "df.head()"
   ]
  },
  {
   "cell_type": "code",
   "execution_count": 51,
   "metadata": {},
   "outputs": [],
   "source": [
    "df = df.drop(columns = ['title', 'selftext', 'title_text', 'title_text_tokens', 'title_text_stop', 'word_sentiment', 'word_compound', 'word_comp_score'])"
   ]
  },
  {
   "cell_type": "code",
   "execution_count": 52,
   "metadata": {},
   "outputs": [
    {
     "data": {
      "text/html": [
       "<div>\n",
       "<style scoped>\n",
       "    .dataframe tbody tr th:only-of-type {\n",
       "        vertical-align: middle;\n",
       "    }\n",
       "\n",
       "    .dataframe tbody tr th {\n",
       "        vertical-align: top;\n",
       "    }\n",
       "\n",
       "    .dataframe thead th {\n",
       "        text-align: right;\n",
       "    }\n",
       "</style>\n",
       "<table border=\"1\" class=\"dataframe\">\n",
       "  <thead>\n",
       "    <tr style=\"text-align: right;\">\n",
       "      <th></th>\n",
       "      <th>subreddit</th>\n",
       "      <th>title_text_lem</th>\n",
       "    </tr>\n",
       "  </thead>\n",
       "  <tbody>\n",
       "    <tr>\n",
       "      <th>0</th>\n",
       "      <td>netflix</td>\n",
       "      <td>heman</td>\n",
       "    </tr>\n",
       "    <tr>\n",
       "      <th>1</th>\n",
       "      <td>netflix</td>\n",
       "      <td>help find episode looking something saw many y...</td>\n",
       "    </tr>\n",
       "    <tr>\n",
       "      <th>2</th>\n",
       "      <td>netflix</td>\n",
       "      <td>netflix work noticed netflix refuse launch sur...</td>\n",
       "    </tr>\n",
       "    <tr>\n",
       "      <th>3</th>\n",
       "      <td>netflix</td>\n",
       "      <td>army dead army dead set new york city month ev...</td>\n",
       "    </tr>\n",
       "    <tr>\n",
       "      <th>4</th>\n",
       "      <td>netflix</td>\n",
       "      <td>believe abduction lisa mcvey sorry little rant...</td>\n",
       "    </tr>\n",
       "  </tbody>\n",
       "</table>\n",
       "</div>"
      ],
      "text/plain": [
       "  subreddit                                     title_text_lem\n",
       "0   netflix                                              heman\n",
       "1   netflix  help find episode looking something saw many y...\n",
       "2   netflix  netflix work noticed netflix refuse launch sur...\n",
       "3   netflix  army dead army dead set new york city month ev...\n",
       "4   netflix  believe abduction lisa mcvey sorry little rant..."
      ]
     },
     "execution_count": 52,
     "metadata": {},
     "output_type": "execute_result"
    }
   ],
   "source": [
    "df.head()"
   ]
  },
  {
   "cell_type": "code",
   "execution_count": 53,
   "metadata": {},
   "outputs": [],
   "source": [
    "#save the concatenated file \n",
    "\n",
    "df.to_csv(r'C:\\Users\\Leemei\\Data Science\\GA\\projects\\project_3\\datasets\\df(cleanup).csv', index = False)"
   ]
  },
  {
   "cell_type": "code",
   "execution_count": null,
   "metadata": {},
   "outputs": [],
   "source": []
  }
 ],
 "metadata": {
  "kernelspec": {
   "display_name": "Python 3",
   "language": "python",
   "name": "python3"
  },
  "language_info": {
   "codemirror_mode": {
    "name": "ipython",
    "version": 3
   },
   "file_extension": ".py",
   "mimetype": "text/x-python",
   "name": "python",
   "nbconvert_exporter": "python",
   "pygments_lexer": "ipython3",
   "version": "3.8.3"
  }
 },
 "nbformat": 4,
 "nbformat_minor": 4
}
