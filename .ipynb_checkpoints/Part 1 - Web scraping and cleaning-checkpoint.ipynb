{
 "cells": [
  {
   "cell_type": "markdown",
   "metadata": {},
   "source": [
    "# Project 3 - Reddit classification challenge"
   ]
  },
  {
   "cell_type": "markdown",
   "metadata": {},
   "source": [
    "## Part 1 - Web scraping and cleaning"
   ]
  },
  {
   "cell_type": "markdown",
   "metadata": {},
   "source": [
    "### Contents:\n",
    "- [Problem statement and objectives](#Problem-statement-and-objectives)\n",
    "- [Web scraping](#Web-scraping)\n",
    "- [Scraped data cleaning](#Scraped-data-cleaning)\n",
    "- [Data storage](#Data-storage)"
   ]
  },
  {
   "cell_type": "markdown",
   "metadata": {},
   "source": [
    "### Problem statement and objectives\n",
    "\n",
    "**Problem statement**\n",
    "\n",
    "- In recent years there has been a surge of forums/discussion/comments among netizens in various social media channels, where a wide range of topics are being discussed.\n",
    "- As the variety of discussion topics rose substantially, the data science team realise that when compiling information from these netizens, discussion/comments which can be broken down into sub-topics will be more meaningful. For example topics relating to dietary, instead of categorising it broadly as \"diet\", further breakdowns such as 'plant-based', 'kosher' or 'paleo' will be useful.\n",
    "\n",
    "**Objectives**\n",
    "\n",
    "- To develop a classification model which is able to classify/categorise subtopics based on consolidated netizens' comments / discussion. \n",
    "\n",
    "- The model should be able to distinguish / classify discussion / comments on topics which are closely related. That's why for a start, the data science team chose streaming services namely, Netflix and AmazonPrimeVideo to train the model. Data is extracted from sub-reddits due to active users on the platform. \n",
    "\n",
    "- The model to be shortlisted will be based on various consideration such as accuracy score, strengths and limitations and the selected model will be trained further to include more subtopics\n",
    "\n",
    "- The model when deployed, may be useful to any user, be it data scientist, marketing team to get insights on which discussion / comment belong which subtopic\n",
    "\n",
    "\n"
   ]
  },
  {
   "cell_type": "code",
   "execution_count": 1,
   "metadata": {},
   "outputs": [
    {
     "name": "stdout",
     "output_type": "stream",
     "text": [
      "Requirement already satisfied: wordcloud in c:\\users\\leemei\\anaconda3\\lib\\site-packages (1.8.1)\n",
      "Requirement already satisfied: pillow in c:\\users\\leemei\\anaconda3\\lib\\site-packages (from wordcloud) (7.2.0)\n",
      "Requirement already satisfied: numpy>=1.6.1 in c:\\users\\leemei\\anaconda3\\lib\\site-packages (from wordcloud) (1.19.5)\n",
      "Requirement already satisfied: matplotlib in c:\\users\\leemei\\anaconda3\\lib\\site-packages (from wordcloud) (3.2.2)\n",
      "Requirement already satisfied: kiwisolver>=1.0.1 in c:\\users\\leemei\\anaconda3\\lib\\site-packages (from matplotlib->wordcloud) (1.2.0)\n",
      "Requirement already satisfied: cycler>=0.10 in c:\\users\\leemei\\anaconda3\\lib\\site-packages (from matplotlib->wordcloud) (0.10.0)\n",
      "Requirement already satisfied: python-dateutil>=2.1 in c:\\users\\leemei\\anaconda3\\lib\\site-packages (from matplotlib->wordcloud) (2.8.1)\n",
      "Requirement already satisfied: pyparsing!=2.0.4,!=2.1.2,!=2.1.6,>=2.0.1 in c:\\users\\leemei\\anaconda3\\lib\\site-packages (from matplotlib->wordcloud) (2.4.7)\n",
      "Requirement already satisfied: six in c:\\users\\leemei\\anaconda3\\lib\\site-packages (from cycler>=0.10->matplotlib->wordcloud) (1.15.0)\n"
     ]
    }
   ],
   "source": [
    "# basics\n",
    "import pandas as pd\n",
    "import numpy as np\n",
    "\n",
    "# web scraping\n",
    "import requests\n",
    "import json\n",
    "from bs4 import BeautifulSoup\n",
    "\n",
    "# visualisation\n",
    "import seaborn as sns\n",
    "import matplotlib.pyplot as plt\n",
    "!pip install wordcloud\n",
    "from wordcloud import WordCloud, STOPWORDS, ImageColorGenerator\n",
    "\n",
    "# modelling\n",
    "from sklearn.model_selection import train_test_split\n",
    "from sklearn.svm import SVC\n",
    "from sklearn.preprocessing import StandardScaler\n",
    "from sklearn.datasets import make_classification\n",
    "from sklearn.pipeline import Pipeline\n",
    "from sklearn.linear_model import LogisticRegression\n",
    "from sklearn.metrics import r2_score,mean_squared_error,confusion_matrix,accuracy_score\n",
    "from sklearn.ensemble import RandomForestClassifier\n",
    "from sklearn.model_selection import GridSearchCV\n",
    "from sklearn.naive_bayes import MultinomialNB\n",
    "\n",
    "# NLP\n",
    "import nltk\n",
    "from nltk.stem import WordNetLemmatizer \n",
    "from sklearn.feature_extraction.text import CountVectorizer, TfidfVectorizer\n",
    "from nltk.tokenize import RegexpTokenizer\n",
    "from nltk.stem import WordNetLemmatizer\n",
    "from nltk.stem.porter import PorterStemmer\n",
    "from nltk.corpus import stopwords\n",
    "from nltk.tokenize import word_tokenize\n",
    "\n",
    "import time\n",
    "import re\n",
    "import warnings\n",
    "warnings.simplefilter(action = 'ignore')\n",
    "\n",
    "pd.set_option('display.max_columns', None)\n",
    "pd.set_option('display.max_rows', None)\n",
    "pd.set_option('display.width', None)"
   ]
  },
  {
   "cell_type": "markdown",
   "metadata": {},
   "source": [
    "### Web scraping"
   ]
  },
  {
   "cell_type": "code",
   "execution_count": 2,
   "metadata": {},
   "outputs": [],
   "source": [
    "url = \"https://api.pushshift.io/reddit/search/submission\""
   ]
  },
  {
   "cell_type": "markdown",
   "metadata": {},
   "source": [
    "Create a function to scrape info from Reddit"
   ]
  },
  {
   "cell_type": "code",
   "execution_count": 3,
   "metadata": {},
   "outputs": [],
   "source": [
    "def get_content(subreddit, n_iter):\n",
    "    \n",
    "    df_list = []\n",
    "    current_time = 1623491323\n",
    "    \n",
    "    for _ in range(n_iter):\n",
    "        res = requests.get(\n",
    "            url,\n",
    "            params={\n",
    "                \"subreddit\": subreddit,\n",
    "                \"size\": 100,\n",
    "                \"before\": current_time\n",
    "            }\n",
    "        )\n",
    "        time.sleep(3)\n",
    "        df = pd.DataFrame(res.json()['data'])\n",
    "        df_list.append(df)\n",
    "        current_time = df.created_utc.min()\n",
    "        \n",
    "    return pd.concat(df_list, axis=0)"
   ]
  },
  {
   "cell_type": "markdown",
   "metadata": {},
   "source": [
    "Scraping contents from Netflix subreddit"
   ]
  },
  {
   "cell_type": "code",
   "execution_count": 4,
   "metadata": {},
   "outputs": [],
   "source": [
    "netflix_df = get_content('netflix', 10)[['title','selftext','subreddit']]"
   ]
  },
  {
   "cell_type": "code",
   "execution_count": 5,
   "metadata": {},
   "outputs": [
    {
     "data": {
      "text/html": [
       "<div>\n",
       "<style scoped>\n",
       "    .dataframe tbody tr th:only-of-type {\n",
       "        vertical-align: middle;\n",
       "    }\n",
       "\n",
       "    .dataframe tbody tr th {\n",
       "        vertical-align: top;\n",
       "    }\n",
       "\n",
       "    .dataframe thead th {\n",
       "        text-align: right;\n",
       "    }\n",
       "</style>\n",
       "<table border=\"1\" class=\"dataframe\">\n",
       "  <thead>\n",
       "    <tr style=\"text-align: right;\">\n",
       "      <th></th>\n",
       "      <th>title</th>\n",
       "      <th>selftext</th>\n",
       "      <th>subreddit</th>\n",
       "    </tr>\n",
       "  </thead>\n",
       "  <tbody>\n",
       "    <tr>\n",
       "      <th>0</th>\n",
       "      <td>Heman</td>\n",
       "      <td></td>\n",
       "      <td>netflix</td>\n",
       "    </tr>\n",
       "    <tr>\n",
       "      <th>1</th>\n",
       "      <td>Help me find a episode</td>\n",
       "      <td>I'm looking for something I saw many years ago...</td>\n",
       "      <td>netflix</td>\n",
       "    </tr>\n",
       "    <tr>\n",
       "      <th>2</th>\n",
       "      <td>Netflix won’t work</td>\n",
       "      <td>I have noticed that Netflix refuses to launch ...</td>\n",
       "      <td>netflix</td>\n",
       "    </tr>\n",
       "    <tr>\n",
       "      <th>3</th>\n",
       "      <td>Army of The Dead 2</td>\n",
       "      <td>army of the dead 2 will be set in new york cit...</td>\n",
       "      <td>netflix</td>\n",
       "    </tr>\n",
       "    <tr>\n",
       "      <th>4</th>\n",
       "      <td>Believe me: The Abduction of Lisa Mcvey</td>\n",
       "      <td>Sorry little rant but holy shit those 2 female...</td>\n",
       "      <td>netflix</td>\n",
       "    </tr>\n",
       "  </tbody>\n",
       "</table>\n",
       "</div>"
      ],
      "text/plain": [
       "                                     title  \\\n",
       "0                                    Heman   \n",
       "1                   Help me find a episode   \n",
       "2                       Netflix won’t work   \n",
       "3                       Army of The Dead 2   \n",
       "4  Believe me: The Abduction of Lisa Mcvey   \n",
       "\n",
       "                                            selftext subreddit  \n",
       "0                                                      netflix  \n",
       "1  I'm looking for something I saw many years ago...   netflix  \n",
       "2  I have noticed that Netflix refuses to launch ...   netflix  \n",
       "3  army of the dead 2 will be set in new york cit...   netflix  \n",
       "4  Sorry little rant but holy shit those 2 female...   netflix  "
      ]
     },
     "execution_count": 5,
     "metadata": {},
     "output_type": "execute_result"
    }
   ],
   "source": [
    "# test\n",
    "\n",
    "netflix_df.head()"
   ]
  },
  {
   "cell_type": "markdown",
   "metadata": {},
   "source": [
    "Preliminary cleaning --> remove NaN"
   ]
  },
  {
   "cell_type": "code",
   "execution_count": 6,
   "metadata": {},
   "outputs": [],
   "source": [
    "netflix_df['title'].replace(np.nan, '', inplace = True)"
   ]
  },
  {
   "cell_type": "code",
   "execution_count": 7,
   "metadata": {},
   "outputs": [],
   "source": [
    "netflix_df['selftext'].replace(np.nan, '', inplace = True)"
   ]
  },
  {
   "cell_type": "markdown",
   "metadata": {},
   "source": [
    "Scraping contents from AmazonPrimeVideo subreddit"
   ]
  },
  {
   "cell_type": "code",
   "execution_count": 8,
   "metadata": {},
   "outputs": [],
   "source": [
    "az_df = get_content('AmazonPrimeVideo', 10)[['title','selftext','subreddit']]"
   ]
  },
  {
   "cell_type": "code",
   "execution_count": 9,
   "metadata": {},
   "outputs": [
    {
     "data": {
      "text/html": [
       "<div>\n",
       "<style scoped>\n",
       "    .dataframe tbody tr th:only-of-type {\n",
       "        vertical-align: middle;\n",
       "    }\n",
       "\n",
       "    .dataframe tbody tr th {\n",
       "        vertical-align: top;\n",
       "    }\n",
       "\n",
       "    .dataframe thead th {\n",
       "        text-align: right;\n",
       "    }\n",
       "</style>\n",
       "<table border=\"1\" class=\"dataframe\">\n",
       "  <thead>\n",
       "    <tr style=\"text-align: right;\">\n",
       "      <th></th>\n",
       "      <th>title</th>\n",
       "      <th>selftext</th>\n",
       "      <th>subreddit</th>\n",
       "    </tr>\n",
       "  </thead>\n",
       "  <tbody>\n",
       "    <tr>\n",
       "      <th>0</th>\n",
       "      <td>Any Stack TV subscribers here?</td>\n",
       "      <td>[removed]</td>\n",
       "      <td>AmazonPrimeVideo</td>\n",
       "    </tr>\n",
       "    <tr>\n",
       "      <th>1</th>\n",
       "      <td>chromecast</td>\n",
       "      <td>[removed]</td>\n",
       "      <td>AmazonPrimeVideo</td>\n",
       "    </tr>\n",
       "    <tr>\n",
       "      <th>2</th>\n",
       "      <td>Using digital reward credit for channel subscr...</td>\n",
       "      <td>I've got some digital rewards for no rush ship...</td>\n",
       "      <td>AmazonPrimeVideo</td>\n",
       "    </tr>\n",
       "    <tr>\n",
       "      <th>3</th>\n",
       "      <td>Infinite loading during ads.</td>\n",
       "      <td>[removed]</td>\n",
       "      <td>AmazonPrimeVideo</td>\n",
       "    </tr>\n",
       "    <tr>\n",
       "      <th>4</th>\n",
       "      <td>Infinite loading screen whenever an ad tries t...</td>\n",
       "      <td>NaN</td>\n",
       "      <td>AmazonPrimeVideo</td>\n",
       "    </tr>\n",
       "    <tr>\n",
       "      <th>5</th>\n",
       "      <td>Anyone Know What Time Clarkson's Farm On Prime?</td>\n",
       "      <td>Hi anyone know what time (UK or EST) Clarkson'...</td>\n",
       "      <td>AmazonPrimeVideo</td>\n",
       "    </tr>\n",
       "    <tr>\n",
       "      <th>6</th>\n",
       "      <td>Confused</td>\n",
       "      <td>So, I'm a bit confused here. I am watching YuG...</td>\n",
       "      <td>AmazonPrimeVideo</td>\n",
       "    </tr>\n",
       "    <tr>\n",
       "      <th>7</th>\n",
       "      <td>So, channel subscriptions do not include all t...</td>\n",
       "      <td>I've been rewatching the Mythbusters series an...</td>\n",
       "      <td>AmazonPrimeVideo</td>\n",
       "    </tr>\n",
       "    <tr>\n",
       "      <th>8</th>\n",
       "      <td>Why I Have Mixed Feelings Over The Family Man ...</td>\n",
       "      <td></td>\n",
       "      <td>AmazonPrimeVideo</td>\n",
       "    </tr>\n",
       "    <tr>\n",
       "      <th>9</th>\n",
       "      <td>The creepiest movie from my childhood is on Pr...</td>\n",
       "      <td>It's called The Adventures of Mark Twain. It's...</td>\n",
       "      <td>AmazonPrimeVideo</td>\n",
       "    </tr>\n",
       "  </tbody>\n",
       "</table>\n",
       "</div>"
      ],
      "text/plain": [
       "                                               title  \\\n",
       "0                     Any Stack TV subscribers here?   \n",
       "1                                         chromecast   \n",
       "2  Using digital reward credit for channel subscr...   \n",
       "3                       Infinite loading during ads.   \n",
       "4  Infinite loading screen whenever an ad tries t...   \n",
       "5    Anyone Know What Time Clarkson's Farm On Prime?   \n",
       "6                                           Confused   \n",
       "7  So, channel subscriptions do not include all t...   \n",
       "8  Why I Have Mixed Feelings Over The Family Man ...   \n",
       "9  The creepiest movie from my childhood is on Pr...   \n",
       "\n",
       "                                            selftext         subreddit  \n",
       "0                                          [removed]  AmazonPrimeVideo  \n",
       "1                                          [removed]  AmazonPrimeVideo  \n",
       "2  I've got some digital rewards for no rush ship...  AmazonPrimeVideo  \n",
       "3                                          [removed]  AmazonPrimeVideo  \n",
       "4                                                NaN  AmazonPrimeVideo  \n",
       "5  Hi anyone know what time (UK or EST) Clarkson'...  AmazonPrimeVideo  \n",
       "6  So, I'm a bit confused here. I am watching YuG...  AmazonPrimeVideo  \n",
       "7  I've been rewatching the Mythbusters series an...  AmazonPrimeVideo  \n",
       "8                                                     AmazonPrimeVideo  \n",
       "9  It's called The Adventures of Mark Twain. It's...  AmazonPrimeVideo  "
      ]
     },
     "execution_count": 9,
     "metadata": {},
     "output_type": "execute_result"
    }
   ],
   "source": [
    "az_df.head(10)"
   ]
  },
  {
   "cell_type": "code",
   "execution_count": 10,
   "metadata": {},
   "outputs": [],
   "source": [
    "az_df['title'].replace(np.nan, '', inplace = True)"
   ]
  },
  {
   "cell_type": "code",
   "execution_count": 11,
   "metadata": {},
   "outputs": [],
   "source": [
    "az_df['selftext'].replace(np.nan, '', inplace = True)"
   ]
  },
  {
   "cell_type": "markdown",
   "metadata": {},
   "source": [
    "### Scraped data cleaning\n",
    "\n",
    "Create a function for further cleaning, i.e. removing symbols, numbers, etc."
   ]
  },
  {
   "cell_type": "code",
   "execution_count": 12,
   "metadata": {},
   "outputs": [],
   "source": [
    "def clean_text(text):\n",
    "    \n",
    "    text = text.lower()\n",
    "    text = re.sub('\\[.*?\\]', '', text)\n",
    "    text = re.sub('\\w*\\d\\w*', '', text)\n",
    "    text = re.sub('[''\"\"...]', '', text)\n",
    "    text = re.sub('\\n', '', text)\n",
    "    text = re.sub(\"[^a-zA-Z0-9]+\", \" \",text)\n",
    "    text = text.replace('[removed]', '')\n",
    "    text = text.replace('[deleted]', '')\n",
    "    text = text.replace('?', '')\n",
    "    text = text.replace('!', '')\n",
    "    text = text.replace('()', '')\n",
    "    text = text.replace(',', '')\n",
    "    text = text.replace(\"'\", '')\n",
    "    text = text.replace(\"http\", '')\n",
    "    \n",
    "    return text"
   ]
  },
  {
   "cell_type": "code",
   "execution_count": 13,
   "metadata": {},
   "outputs": [],
   "source": [
    "netflix_df['selftext'] = netflix_df['selftext'].apply(clean_text)"
   ]
  },
  {
   "cell_type": "code",
   "execution_count": 14,
   "metadata": {},
   "outputs": [],
   "source": [
    "netflix_df['title'] = netflix_df['title'].apply(clean_text)"
   ]
  },
  {
   "cell_type": "code",
   "execution_count": 15,
   "metadata": {},
   "outputs": [],
   "source": [
    "az_df['selftext'] = az_df['selftext'].apply(clean_text)"
   ]
  },
  {
   "cell_type": "code",
   "execution_count": 16,
   "metadata": {},
   "outputs": [],
   "source": [
    "az_df['title'] = az_df['title'].apply(clean_text)"
   ]
  },
  {
   "cell_type": "code",
   "execution_count": 17,
   "metadata": {},
   "outputs": [
    {
     "data": {
      "text/html": [
       "<div>\n",
       "<style scoped>\n",
       "    .dataframe tbody tr th:only-of-type {\n",
       "        vertical-align: middle;\n",
       "    }\n",
       "\n",
       "    .dataframe tbody tr th {\n",
       "        vertical-align: top;\n",
       "    }\n",
       "\n",
       "    .dataframe thead th {\n",
       "        text-align: right;\n",
       "    }\n",
       "</style>\n",
       "<table border=\"1\" class=\"dataframe\">\n",
       "  <thead>\n",
       "    <tr style=\"text-align: right;\">\n",
       "      <th></th>\n",
       "      <th>title</th>\n",
       "      <th>selftext</th>\n",
       "      <th>subreddit</th>\n",
       "    </tr>\n",
       "  </thead>\n",
       "  <tbody>\n",
       "    <tr>\n",
       "      <th>0</th>\n",
       "      <td>heman</td>\n",
       "      <td></td>\n",
       "      <td>netflix</td>\n",
       "    </tr>\n",
       "    <tr>\n",
       "      <th>1</th>\n",
       "      <td>help me find a episode</td>\n",
       "      <td>i m looking for something i saw many years ago...</td>\n",
       "      <td>netflix</td>\n",
       "    </tr>\n",
       "    <tr>\n",
       "      <th>2</th>\n",
       "      <td>netflix won t work</td>\n",
       "      <td>i have noticed that netflix refuses to launch ...</td>\n",
       "      <td>netflix</td>\n",
       "    </tr>\n",
       "    <tr>\n",
       "      <th>3</th>\n",
       "      <td>army of the dead</td>\n",
       "      <td>army of the dead will be set in new york city ...</td>\n",
       "      <td>netflix</td>\n",
       "    </tr>\n",
       "    <tr>\n",
       "      <th>4</th>\n",
       "      <td>believe me the abduction of lisa mcvey</td>\n",
       "      <td>sorry little rant but holy shit those female p...</td>\n",
       "      <td>netflix</td>\n",
       "    </tr>\n",
       "  </tbody>\n",
       "</table>\n",
       "</div>"
      ],
      "text/plain": [
       "                                    title  \\\n",
       "0                                   heman   \n",
       "1                  help me find a episode   \n",
       "2                      netflix won t work   \n",
       "3                       army of the dead    \n",
       "4  believe me the abduction of lisa mcvey   \n",
       "\n",
       "                                            selftext subreddit  \n",
       "0                                                      netflix  \n",
       "1  i m looking for something i saw many years ago...   netflix  \n",
       "2  i have noticed that netflix refuses to launch ...   netflix  \n",
       "3  army of the dead will be set in new york city ...   netflix  \n",
       "4  sorry little rant but holy shit those female p...   netflix  "
      ]
     },
     "execution_count": 17,
     "metadata": {},
     "output_type": "execute_result"
    }
   ],
   "source": [
    "#check\n",
    "\n",
    "netflix_df.head()"
   ]
  },
  {
   "cell_type": "code",
   "execution_count": 18,
   "metadata": {},
   "outputs": [
    {
     "data": {
      "text/html": [
       "<div>\n",
       "<style scoped>\n",
       "    .dataframe tbody tr th:only-of-type {\n",
       "        vertical-align: middle;\n",
       "    }\n",
       "\n",
       "    .dataframe tbody tr th {\n",
       "        vertical-align: top;\n",
       "    }\n",
       "\n",
       "    .dataframe thead th {\n",
       "        text-align: right;\n",
       "    }\n",
       "</style>\n",
       "<table border=\"1\" class=\"dataframe\">\n",
       "  <thead>\n",
       "    <tr style=\"text-align: right;\">\n",
       "      <th></th>\n",
       "      <th>title</th>\n",
       "      <th>selftext</th>\n",
       "      <th>subreddit</th>\n",
       "    </tr>\n",
       "  </thead>\n",
       "  <tbody>\n",
       "    <tr>\n",
       "      <th>0</th>\n",
       "      <td>any stack tv subscribers here</td>\n",
       "      <td></td>\n",
       "      <td>AmazonPrimeVideo</td>\n",
       "    </tr>\n",
       "    <tr>\n",
       "      <th>1</th>\n",
       "      <td>chromecast</td>\n",
       "      <td></td>\n",
       "      <td>AmazonPrimeVideo</td>\n",
       "    </tr>\n",
       "    <tr>\n",
       "      <th>2</th>\n",
       "      <td>using digital reward credit for channel subscr...</td>\n",
       "      <td>i ve got some digital rewards for no rush ship...</td>\n",
       "      <td>AmazonPrimeVideo</td>\n",
       "    </tr>\n",
       "    <tr>\n",
       "      <th>3</th>\n",
       "      <td>infinite loading during ads</td>\n",
       "      <td></td>\n",
       "      <td>AmazonPrimeVideo</td>\n",
       "    </tr>\n",
       "    <tr>\n",
       "      <th>4</th>\n",
       "      <td>infinite loading screen whenever an ad tries t...</td>\n",
       "      <td></td>\n",
       "      <td>AmazonPrimeVideo</td>\n",
       "    </tr>\n",
       "  </tbody>\n",
       "</table>\n",
       "</div>"
      ],
      "text/plain": [
       "                                               title  \\\n",
       "0                     any stack tv subscribers here    \n",
       "1                                         chromecast   \n",
       "2  using digital reward credit for channel subscr...   \n",
       "3                        infinite loading during ads   \n",
       "4  infinite loading screen whenever an ad tries t...   \n",
       "\n",
       "                                            selftext         subreddit  \n",
       "0                                                     AmazonPrimeVideo  \n",
       "1                                                     AmazonPrimeVideo  \n",
       "2  i ve got some digital rewards for no rush ship...  AmazonPrimeVideo  \n",
       "3                                                     AmazonPrimeVideo  \n",
       "4                                                     AmazonPrimeVideo  "
      ]
     },
     "execution_count": 18,
     "metadata": {},
     "output_type": "execute_result"
    }
   ],
   "source": [
    "az_df.head()"
   ]
  },
  {
   "cell_type": "markdown",
   "metadata": {},
   "source": [
    "After cleaning, concatenate title and selftext"
   ]
  },
  {
   "cell_type": "code",
   "execution_count": 19,
   "metadata": {},
   "outputs": [],
   "source": [
    "netflix_df['title_text'] = netflix_df['title'] + ' ' + netflix_df['selftext']"
   ]
  },
  {
   "cell_type": "code",
   "execution_count": 20,
   "metadata": {},
   "outputs": [
    {
     "data": {
      "text/html": [
       "<div>\n",
       "<style scoped>\n",
       "    .dataframe tbody tr th:only-of-type {\n",
       "        vertical-align: middle;\n",
       "    }\n",
       "\n",
       "    .dataframe tbody tr th {\n",
       "        vertical-align: top;\n",
       "    }\n",
       "\n",
       "    .dataframe thead th {\n",
       "        text-align: right;\n",
       "    }\n",
       "</style>\n",
       "<table border=\"1\" class=\"dataframe\">\n",
       "  <thead>\n",
       "    <tr style=\"text-align: right;\">\n",
       "      <th></th>\n",
       "      <th>title</th>\n",
       "      <th>selftext</th>\n",
       "      <th>subreddit</th>\n",
       "      <th>title_text</th>\n",
       "    </tr>\n",
       "  </thead>\n",
       "  <tbody>\n",
       "    <tr>\n",
       "      <th>0</th>\n",
       "      <td>heman</td>\n",
       "      <td></td>\n",
       "      <td>netflix</td>\n",
       "      <td>heman</td>\n",
       "    </tr>\n",
       "    <tr>\n",
       "      <th>1</th>\n",
       "      <td>help me find a episode</td>\n",
       "      <td>i m looking for something i saw many years ago...</td>\n",
       "      <td>netflix</td>\n",
       "      <td>help me find a episode i m looking for somethi...</td>\n",
       "    </tr>\n",
       "    <tr>\n",
       "      <th>2</th>\n",
       "      <td>netflix won t work</td>\n",
       "      <td>i have noticed that netflix refuses to launch ...</td>\n",
       "      <td>netflix</td>\n",
       "      <td>netflix won t work i have noticed that netflix...</td>\n",
       "    </tr>\n",
       "    <tr>\n",
       "      <th>3</th>\n",
       "      <td>army of the dead</td>\n",
       "      <td>army of the dead will be set in new york city ...</td>\n",
       "      <td>netflix</td>\n",
       "      <td>army of the dead  army of the dead will be set...</td>\n",
       "    </tr>\n",
       "    <tr>\n",
       "      <th>4</th>\n",
       "      <td>believe me the abduction of lisa mcvey</td>\n",
       "      <td>sorry little rant but holy shit those female p...</td>\n",
       "      <td>netflix</td>\n",
       "      <td>believe me the abduction of lisa mcvey sorry l...</td>\n",
       "    </tr>\n",
       "  </tbody>\n",
       "</table>\n",
       "</div>"
      ],
      "text/plain": [
       "                                    title  \\\n",
       "0                                   heman   \n",
       "1                  help me find a episode   \n",
       "2                      netflix won t work   \n",
       "3                       army of the dead    \n",
       "4  believe me the abduction of lisa mcvey   \n",
       "\n",
       "                                            selftext subreddit  \\\n",
       "0                                                      netflix   \n",
       "1  i m looking for something i saw many years ago...   netflix   \n",
       "2  i have noticed that netflix refuses to launch ...   netflix   \n",
       "3  army of the dead will be set in new york city ...   netflix   \n",
       "4  sorry little rant but holy shit those female p...   netflix   \n",
       "\n",
       "                                          title_text  \n",
       "0                                             heman   \n",
       "1  help me find a episode i m looking for somethi...  \n",
       "2  netflix won t work i have noticed that netflix...  \n",
       "3  army of the dead  army of the dead will be set...  \n",
       "4  believe me the abduction of lisa mcvey sorry l...  "
      ]
     },
     "execution_count": 20,
     "metadata": {},
     "output_type": "execute_result"
    }
   ],
   "source": [
    "netflix_df.head()"
   ]
  },
  {
   "cell_type": "code",
   "execution_count": 21,
   "metadata": {},
   "outputs": [],
   "source": [
    "az_df['title_text'] = az_df['title'] + ' ' + az_df['selftext']"
   ]
  },
  {
   "cell_type": "code",
   "execution_count": 22,
   "metadata": {},
   "outputs": [
    {
     "data": {
      "text/html": [
       "<div>\n",
       "<style scoped>\n",
       "    .dataframe tbody tr th:only-of-type {\n",
       "        vertical-align: middle;\n",
       "    }\n",
       "\n",
       "    .dataframe tbody tr th {\n",
       "        vertical-align: top;\n",
       "    }\n",
       "\n",
       "    .dataframe thead th {\n",
       "        text-align: right;\n",
       "    }\n",
       "</style>\n",
       "<table border=\"1\" class=\"dataframe\">\n",
       "  <thead>\n",
       "    <tr style=\"text-align: right;\">\n",
       "      <th></th>\n",
       "      <th>title</th>\n",
       "      <th>selftext</th>\n",
       "      <th>subreddit</th>\n",
       "      <th>title_text</th>\n",
       "    </tr>\n",
       "  </thead>\n",
       "  <tbody>\n",
       "    <tr>\n",
       "      <th>0</th>\n",
       "      <td>any stack tv subscribers here</td>\n",
       "      <td></td>\n",
       "      <td>AmazonPrimeVideo</td>\n",
       "      <td>any stack tv subscribers here</td>\n",
       "    </tr>\n",
       "    <tr>\n",
       "      <th>1</th>\n",
       "      <td>chromecast</td>\n",
       "      <td></td>\n",
       "      <td>AmazonPrimeVideo</td>\n",
       "      <td>chromecast</td>\n",
       "    </tr>\n",
       "    <tr>\n",
       "      <th>2</th>\n",
       "      <td>using digital reward credit for channel subscr...</td>\n",
       "      <td>i ve got some digital rewards for no rush ship...</td>\n",
       "      <td>AmazonPrimeVideo</td>\n",
       "      <td>using digital reward credit for channel subscr...</td>\n",
       "    </tr>\n",
       "    <tr>\n",
       "      <th>3</th>\n",
       "      <td>infinite loading during ads</td>\n",
       "      <td></td>\n",
       "      <td>AmazonPrimeVideo</td>\n",
       "      <td>infinite loading during ads</td>\n",
       "    </tr>\n",
       "    <tr>\n",
       "      <th>4</th>\n",
       "      <td>infinite loading screen whenever an ad tries t...</td>\n",
       "      <td></td>\n",
       "      <td>AmazonPrimeVideo</td>\n",
       "      <td>infinite loading screen whenever an ad tries t...</td>\n",
       "    </tr>\n",
       "  </tbody>\n",
       "</table>\n",
       "</div>"
      ],
      "text/plain": [
       "                                               title  \\\n",
       "0                     any stack tv subscribers here    \n",
       "1                                         chromecast   \n",
       "2  using digital reward credit for channel subscr...   \n",
       "3                        infinite loading during ads   \n",
       "4  infinite loading screen whenever an ad tries t...   \n",
       "\n",
       "                                            selftext         subreddit  \\\n",
       "0                                                     AmazonPrimeVideo   \n",
       "1                                                     AmazonPrimeVideo   \n",
       "2  i ve got some digital rewards for no rush ship...  AmazonPrimeVideo   \n",
       "3                                                     AmazonPrimeVideo   \n",
       "4                                                     AmazonPrimeVideo   \n",
       "\n",
       "                                          title_text  \n",
       "0                    any stack tv subscribers here    \n",
       "1                                        chromecast   \n",
       "2  using digital reward credit for channel subscr...  \n",
       "3                       infinite loading during ads   \n",
       "4  infinite loading screen whenever an ad tries t...  "
      ]
     },
     "execution_count": 22,
     "metadata": {},
     "output_type": "execute_result"
    }
   ],
   "source": [
    "az_df.head()"
   ]
  },
  {
   "cell_type": "markdown",
   "metadata": {},
   "source": [
    "### Data storage"
   ]
  },
  {
   "cell_type": "markdown",
   "metadata": {},
   "source": [
    "Saving the files to csv"
   ]
  },
  {
   "cell_type": "code",
   "execution_count": 23,
   "metadata": {},
   "outputs": [],
   "source": [
    "#save the cleaned-up r/netflix file \n",
    "\n",
    "netflix_df.to_csv(r'C:\\Users\\Leemei\\Data Science\\GA\\projects\\project_3\\datasets\\netflix(cleanup).csv', index = False)"
   ]
  },
  {
   "cell_type": "code",
   "execution_count": 24,
   "metadata": {},
   "outputs": [],
   "source": [
    "#save the cleaned-up r/AmazonPrimeVideo file \n",
    "\n",
    "az_df.to_csv(r'C:\\Users\\Leemei\\Data Science\\GA\\projects\\project_3\\datasets\\amazonprimevideo(cleanup).csv', index = False)"
   ]
  }
 ],
 "metadata": {
  "kernelspec": {
   "display_name": "Python 3",
   "language": "python",
   "name": "python3"
  },
  "language_info": {
   "codemirror_mode": {
    "name": "ipython",
    "version": 3
   },
   "file_extension": ".py",
   "mimetype": "text/x-python",
   "name": "python",
   "nbconvert_exporter": "python",
   "pygments_lexer": "ipython3",
   "version": "3.8.3"
  }
 },
 "nbformat": 4,
 "nbformat_minor": 4
}
